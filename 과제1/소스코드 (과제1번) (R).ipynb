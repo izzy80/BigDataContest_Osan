{
 "cells": [
  {
   "cell_type": "markdown",
   "id": "aerial-attack",
   "metadata": {},
   "source": [
    "# 1. 데이터 불러오기"
   ]
  },
  {
   "cell_type": "code",
   "execution_count": 12,
   "id": "athletic-beads",
   "metadata": {},
   "outputs": [],
   "source": [
    "df <- read.csv('classification_data.csv')"
   ]
  },
  {
   "cell_type": "code",
   "execution_count": 13,
   "id": "alike-wages",
   "metadata": {},
   "outputs": [],
   "source": [
    "train_by_python <- read.csv('train_by_python.csv')\n",
    "test_by_python <- read.csv('test_by_python.csv')"
   ]
  },
  {
   "cell_type": "code",
   "execution_count": 14,
   "id": "weekly-order",
   "metadata": {},
   "outputs": [
    {
     "data": {
      "text/html": [
       "<table>\n",
       "<caption>A data.frame: 1 × 18</caption>\n",
       "<thead>\n",
       "\t<tr><th></th><th scope=col>X</th><th scope=col>gid</th><th scope=col>Y</th><th scope=col>총인구</th><th scope=col>유소년인구</th><th scope=col>승용차_14시_19시</th><th scope=col>혼잡빈도강도합</th><th scope=col>혼잡시간강도합</th><th scope=col>학원</th><th scope=col>체육시설</th><th scope=col>횡단보도</th><th scope=col>아파트</th><th scope=col>삼거리</th><th scope=col>사거리</th><th scope=col>평균유동인구</th><th scope=col>신호등</th><th scope=col>횡단보도길이</th><th scope=col>주정차단속</th></tr>\n",
       "\t<tr><th></th><th scope=col>&lt;int&gt;</th><th scope=col>&lt;fct&gt;</th><th scope=col>&lt;int&gt;</th><th scope=col>&lt;dbl&gt;</th><th scope=col>&lt;dbl&gt;</th><th scope=col>&lt;dbl&gt;</th><th scope=col>&lt;dbl&gt;</th><th scope=col>&lt;dbl&gt;</th><th scope=col>&lt;int&gt;</th><th scope=col>&lt;int&gt;</th><th scope=col>&lt;int&gt;</th><th scope=col>&lt;int&gt;</th><th scope=col>&lt;int&gt;</th><th scope=col>&lt;int&gt;</th><th scope=col>&lt;int&gt;</th><th scope=col>&lt;int&gt;</th><th scope=col>&lt;dbl&gt;</th><th scope=col>&lt;int&gt;</th></tr>\n",
       "</thead>\n",
       "<tbody>\n",
       "\t<tr><th scope=row>1</th><td>1965</td><td>다사630036</td><td>1</td><td>0</td><td>0</td><td>2741.55</td><td>213.05</td><td>330.27</td><td>0</td><td>1</td><td>2</td><td>0</td><td>0</td><td>0</td><td>3</td><td>4</td><td>0.6839698</td><td>1</td></tr>\n",
       "</tbody>\n",
       "</table>\n"
      ],
      "text/latex": [
       "A data.frame: 1 × 18\n",
       "\\begin{tabular}{r|llllllllllllllllll}\n",
       "  & X & gid & Y & 총인구 & 유소년인구 & 승용차\\_14시\\_19시 & 혼잡빈도강도합 & 혼잡시간강도합 & 학원 & 체육시설 & 횡단보도 & 아파트 & 삼거리 & 사거리 & 평균유동인구 & 신호등 & 횡단보도길이 & 주정차단속\\\\\n",
       "  & <int> & <fct> & <int> & <dbl> & <dbl> & <dbl> & <dbl> & <dbl> & <int> & <int> & <int> & <int> & <int> & <int> & <int> & <int> & <dbl> & <int>\\\\\n",
       "\\hline\n",
       "\t1 & 1965 & 다사630036 & 1 & 0 & 0 & 2741.55 & 213.05 & 330.27 & 0 & 1 & 2 & 0 & 0 & 0 & 3 & 4 & 0.6839698 & 1\\\\\n",
       "\\end{tabular}\n"
      ],
      "text/markdown": [
       "\n",
       "A data.frame: 1 × 18\n",
       "\n",
       "| <!--/--> | X &lt;int&gt; | gid &lt;fct&gt; | Y &lt;int&gt; | 총인구 &lt;dbl&gt; | 유소년인구 &lt;dbl&gt; | 승용차_14시_19시 &lt;dbl&gt; | 혼잡빈도강도합 &lt;dbl&gt; | 혼잡시간강도합 &lt;dbl&gt; | 학원 &lt;int&gt; | 체육시설 &lt;int&gt; | 횡단보도 &lt;int&gt; | 아파트 &lt;int&gt; | 삼거리 &lt;int&gt; | 사거리 &lt;int&gt; | 평균유동인구 &lt;int&gt; | 신호등 &lt;int&gt; | 횡단보도길이 &lt;dbl&gt; | 주정차단속 &lt;int&gt; |\n",
       "|---|---|---|---|---|---|---|---|---|---|---|---|---|---|---|---|---|---|---|\n",
       "| 1 | 1965 | 다사630036 | 1 | 0 | 0 | 2741.55 | 213.05 | 330.27 | 0 | 1 | 2 | 0 | 0 | 0 | 3 | 4 | 0.6839698 | 1 |\n",
       "\n"
      ],
      "text/plain": [
       "  X    gid        Y 총인구 유소년인구 승용차_14시_19시 혼잡빈도강도합\n",
       "1 1965 다사630036 1 0      0          2741.55          213.05        \n",
       "  혼잡시간강도합 학원 체육시설 횡단보도 아파트 삼거리 사거리 평균유동인구\n",
       "1 330.27         0    1        2        0      0      0      3           \n",
       "  신호등 횡단보도길이 주정차단속\n",
       "1 4      0.6839698    1         "
      ]
     },
     "metadata": {},
     "output_type": "display_data"
    }
   ],
   "source": [
    "head(train_by_python,1)"
   ]
  },
  {
   "cell_type": "code",
   "execution_count": 15,
   "id": "upset-moderator",
   "metadata": {},
   "outputs": [
    {
     "data": {
      "text/html": [
       "<table>\n",
       "<caption>A data.frame: 1 × 18</caption>\n",
       "<thead>\n",
       "\t<tr><th></th><th scope=col>X</th><th scope=col>gid</th><th scope=col>Y</th><th scope=col>총인구</th><th scope=col>유소년인구</th><th scope=col>승용차_14시_19시</th><th scope=col>혼잡빈도강도합</th><th scope=col>혼잡시간강도합</th><th scope=col>학원</th><th scope=col>체육시설</th><th scope=col>횡단보도</th><th scope=col>아파트</th><th scope=col>삼거리</th><th scope=col>사거리</th><th scope=col>평균유동인구</th><th scope=col>신호등</th><th scope=col>횡단보도길이</th><th scope=col>주정차단속</th></tr>\n",
       "\t<tr><th></th><th scope=col>&lt;int&gt;</th><th scope=col>&lt;fct&gt;</th><th scope=col>&lt;int&gt;</th><th scope=col>&lt;dbl&gt;</th><th scope=col>&lt;dbl&gt;</th><th scope=col>&lt;dbl&gt;</th><th scope=col>&lt;dbl&gt;</th><th scope=col>&lt;dbl&gt;</th><th scope=col>&lt;int&gt;</th><th scope=col>&lt;int&gt;</th><th scope=col>&lt;int&gt;</th><th scope=col>&lt;int&gt;</th><th scope=col>&lt;int&gt;</th><th scope=col>&lt;int&gt;</th><th scope=col>&lt;int&gt;</th><th scope=col>&lt;int&gt;</th><th scope=col>&lt;dbl&gt;</th><th scope=col>&lt;int&gt;</th></tr>\n",
       "</thead>\n",
       "<tbody>\n",
       "\t<tr><th scope=row>1</th><td>0</td><td>다사552088</td><td>0</td><td>0</td><td>0</td><td>0</td><td>0</td><td>0</td><td>0</td><td>0</td><td>0</td><td>0</td><td>0</td><td>0</td><td>1</td><td>0</td><td>0</td><td>0</td></tr>\n",
       "</tbody>\n",
       "</table>\n"
      ],
      "text/latex": [
       "A data.frame: 1 × 18\n",
       "\\begin{tabular}{r|llllllllllllllllll}\n",
       "  & X & gid & Y & 총인구 & 유소년인구 & 승용차\\_14시\\_19시 & 혼잡빈도강도합 & 혼잡시간강도합 & 학원 & 체육시설 & 횡단보도 & 아파트 & 삼거리 & 사거리 & 평균유동인구 & 신호등 & 횡단보도길이 & 주정차단속\\\\\n",
       "  & <int> & <fct> & <int> & <dbl> & <dbl> & <dbl> & <dbl> & <dbl> & <int> & <int> & <int> & <int> & <int> & <int> & <int> & <int> & <dbl> & <int>\\\\\n",
       "\\hline\n",
       "\t1 & 0 & 다사552088 & 0 & 0 & 0 & 0 & 0 & 0 & 0 & 0 & 0 & 0 & 0 & 0 & 1 & 0 & 0 & 0\\\\\n",
       "\\end{tabular}\n"
      ],
      "text/markdown": [
       "\n",
       "A data.frame: 1 × 18\n",
       "\n",
       "| <!--/--> | X &lt;int&gt; | gid &lt;fct&gt; | Y &lt;int&gt; | 총인구 &lt;dbl&gt; | 유소년인구 &lt;dbl&gt; | 승용차_14시_19시 &lt;dbl&gt; | 혼잡빈도강도합 &lt;dbl&gt; | 혼잡시간강도합 &lt;dbl&gt; | 학원 &lt;int&gt; | 체육시설 &lt;int&gt; | 횡단보도 &lt;int&gt; | 아파트 &lt;int&gt; | 삼거리 &lt;int&gt; | 사거리 &lt;int&gt; | 평균유동인구 &lt;int&gt; | 신호등 &lt;int&gt; | 횡단보도길이 &lt;dbl&gt; | 주정차단속 &lt;int&gt; |\n",
       "|---|---|---|---|---|---|---|---|---|---|---|---|---|---|---|---|---|---|---|\n",
       "| 1 | 0 | 다사552088 | 0 | 0 | 0 | 0 | 0 | 0 | 0 | 0 | 0 | 0 | 0 | 0 | 1 | 0 | 0 | 0 |\n",
       "\n"
      ],
      "text/plain": [
       "  X gid        Y 총인구 유소년인구 승용차_14시_19시 혼잡빈도강도합\n",
       "1 0 다사552088 0 0      0          0                0             \n",
       "  혼잡시간강도합 학원 체육시설 횡단보도 아파트 삼거리 사거리 평균유동인구\n",
       "1 0              0    0        0        0      0      0      1           \n",
       "  신호등 횡단보도길이 주정차단속\n",
       "1 0      0            0         "
      ]
     },
     "metadata": {},
     "output_type": "display_data"
    }
   ],
   "source": [
    "head(df,1)"
   ]
  },
  {
   "cell_type": "code",
   "execution_count": null,
   "id": "suffering-hurricane",
   "metadata": {},
   "outputs": [],
   "source": []
  },
  {
   "cell_type": "code",
   "execution_count": null,
   "id": "induced-withdrawal",
   "metadata": {},
   "outputs": [],
   "source": []
  },
  {
   "cell_type": "markdown",
   "id": "grave-glucose",
   "metadata": {},
   "source": [
    "# 2. 데이터 정제"
   ]
  },
  {
   "cell_type": "markdown",
   "id": "toxic-eugene",
   "metadata": {},
   "source": [
    "#### 2-1.변수 제거: X "
   ]
  },
  {
   "cell_type": "code",
   "execution_count": 16,
   "id": "retained-singer",
   "metadata": {
    "scrolled": true
   },
   "outputs": [],
   "source": [
    "df <- df[,-c(1)] \n",
    "train_by_python <- train_by_python[,-c(1)]\n",
    "test_by_python <- test_by_python[,-c(1)]"
   ]
  },
  {
   "cell_type": "markdown",
   "id": "instant-target",
   "metadata": {},
   "source": [
    "#### 2-2. 데이터 정규화"
   ]
  },
  {
   "cell_type": "code",
   "execution_count": 17,
   "id": "still-march",
   "metadata": {},
   "outputs": [],
   "source": [
    "df[,c(3,4,5,6,7,8,9,10,11,14,15,16,17)] <- sapply(df[,c(3,4,5,6,7,8,9,10,11,14,15,16,17)],function(x) {(x-min(x))/(max(x)-min(x))})"
   ]
  },
  {
   "cell_type": "markdown",
   "id": "permanent-universal",
   "metadata": {},
   "source": [
    "#### 2-3. Y값 이항 처리"
   ]
  },
  {
   "cell_type": "code",
   "execution_count": 18,
   "id": "criminal-stewart",
   "metadata": {},
   "outputs": [],
   "source": [
    "df <- transform(df, Y = ifelse(Y == 0, 0, 1)) "
   ]
  },
  {
   "cell_type": "markdown",
   "id": "smaller-collar",
   "metadata": {},
   "source": [
    "#### 2-4.factor형 변환"
   ]
  },
  {
   "cell_type": "code",
   "execution_count": 19,
   "id": "forced-thriller",
   "metadata": {},
   "outputs": [],
   "source": [
    "df$삼거리 <- as.factor(df$삼거리)\n",
    "df$사거리 <- as.factor(df$사거리)"
   ]
  },
  {
   "cell_type": "code",
   "execution_count": 20,
   "id": "coupled-representation",
   "metadata": {},
   "outputs": [
    {
     "data": {
      "text/plain": [
       "         gid             Y              총인구           유소년인구     \n",
       " 다사552088:   1   Min.   :0.0000   Min.   :0.000000   Min.   :0.00000  \n",
       " 다사552089:   1   1st Qu.:0.0000   1st Qu.:0.000000   1st Qu.:0.00000  \n",
       " 다사553090:   1   Median :1.0000   Median :0.003383   Median :0.00000  \n",
       " 다사558088:   1   Mean   :0.7345   Mean   :0.050555   Mean   :0.03574  \n",
       " 다사558090:   1   3rd Qu.:1.0000   3rd Qu.:0.067303   3rd Qu.:0.01896  \n",
       " 다사559088:   1   Max.   :1.0000   Max.   :1.000000   Max.   :1.00000  \n",
       " (Other)   :2122                                                        \n",
       " 승용차_14시_19시   혼잡빈도강도합     혼잡시간강도합          학원        \n",
       " Min.   :0.000000   Min.   :0.000000   Min.   :0.000000   Min.   :0.00000  \n",
       " 1st Qu.:0.003092   1st Qu.:0.001185   1st Qu.:0.004718   1st Qu.:0.00000  \n",
       " Median :0.035208   Median :0.055558   Median :0.061460   Median :0.00000  \n",
       " Mean   :0.085198   Mean   :0.106327   Mean   :0.117022   Mean   :0.01167  \n",
       " 3rd Qu.:0.116577   3rd Qu.:0.149303   3rd Qu.:0.174792   3rd Qu.:0.00000  \n",
       " Max.   :1.000000   Max.   :1.000000   Max.   :1.000000   Max.   :1.00000  \n",
       "                                                                           \n",
       "    체육시설          횡단보도           아파트        삼거리   사거리  \n",
       " Min.   :0.00000   Min.   :0.00000   Min.   :0.00000   0:1876   0:1866  \n",
       " 1st Qu.:0.00000   1st Qu.:0.00000   1st Qu.:0.00000   1: 252   1: 262  \n",
       " Median :0.00000   Median :0.00000   Median :0.00000                    \n",
       " Mean   :0.00979   Mean   :0.05864   Mean   :0.04685                    \n",
       " 3rd Qu.:0.00000   3rd Qu.:0.00000   3rd Qu.:0.00000                    \n",
       " Max.   :1.00000   Max.   :1.00000   Max.   :1.00000                    \n",
       "                                                                        \n",
       "  평균유동인구         신호등         횡단보도길이       주정차단속      \n",
       " Min.   :0.00000   Min.   :0.00000   Min.   :0.00000   Min.   :0.000000  \n",
       " 1st Qu.:0.00000   1st Qu.:0.00000   1st Qu.:0.00000   1st Qu.:0.000000  \n",
       " Median :0.02479   Median :0.00000   Median :0.00000   Median :0.000000  \n",
       " Mean   :0.04992   Mean   :0.04373   Mean   :0.03926   Mean   :0.006627  \n",
       " 3rd Qu.:0.05785   3rd Qu.:0.00000   3rd Qu.:0.00000   3rd Qu.:0.000000  \n",
       " Max.   :1.00000   Max.   :1.00000   Max.   :1.00000   Max.   :1.000000  \n",
       "                                                                         "
      ]
     },
     "metadata": {},
     "output_type": "display_data"
    }
   ],
   "source": [
    "summary(df)"
   ]
  },
  {
   "cell_type": "code",
   "execution_count": null,
   "id": "twelve-dover",
   "metadata": {},
   "outputs": [],
   "source": []
  },
  {
   "cell_type": "code",
   "execution_count": null,
   "id": "mathematical-lease",
   "metadata": {},
   "outputs": [],
   "source": []
  },
  {
   "cell_type": "markdown",
   "id": "bearing-behavior",
   "metadata": {},
   "source": [
    "# 3. 상관분석\n",
    "회귀분석시 독립변수들간에 상관관계가 높으면 다중공선성 문제 발생하여 독립변수간 상관관계를 살펴본다."
   ]
  },
  {
   "cell_type": "markdown",
   "id": "involved-thesaurus",
   "metadata": {},
   "source": [
    "#### 3-1. 상관계수: 연속형 독립변수에 한해서 진행"
   ]
  },
  {
   "cell_type": "code",
   "execution_count": 21,
   "id": "measured-research",
   "metadata": {},
   "outputs": [
    {
     "data": {
      "text/html": [
       "<table>\n",
       "<caption>A data.frame: 1 × 17</caption>\n",
       "<thead>\n",
       "\t<tr><th></th><th scope=col>gid</th><th scope=col>Y</th><th scope=col>총인구</th><th scope=col>유소년인구</th><th scope=col>승용차_14시_19시</th><th scope=col>혼잡빈도강도합</th><th scope=col>혼잡시간강도합</th><th scope=col>학원</th><th scope=col>체육시설</th><th scope=col>횡단보도</th><th scope=col>아파트</th><th scope=col>삼거리</th><th scope=col>사거리</th><th scope=col>평균유동인구</th><th scope=col>신호등</th><th scope=col>횡단보도길이</th><th scope=col>주정차단속</th></tr>\n",
       "\t<tr><th></th><th scope=col>&lt;fct&gt;</th><th scope=col>&lt;dbl&gt;</th><th scope=col>&lt;dbl&gt;</th><th scope=col>&lt;dbl&gt;</th><th scope=col>&lt;dbl&gt;</th><th scope=col>&lt;dbl&gt;</th><th scope=col>&lt;dbl&gt;</th><th scope=col>&lt;dbl&gt;</th><th scope=col>&lt;dbl&gt;</th><th scope=col>&lt;dbl&gt;</th><th scope=col>&lt;dbl&gt;</th><th scope=col>&lt;fct&gt;</th><th scope=col>&lt;fct&gt;</th><th scope=col>&lt;dbl&gt;</th><th scope=col>&lt;dbl&gt;</th><th scope=col>&lt;dbl&gt;</th><th scope=col>&lt;dbl&gt;</th></tr>\n",
       "</thead>\n",
       "<tbody>\n",
       "\t<tr><th scope=row>1</th><td>다사552088</td><td>0</td><td>0</td><td>0</td><td>0</td><td>0</td><td>0</td><td>0</td><td>0</td><td>0</td><td>0</td><td>0</td><td>0</td><td>0.008264463</td><td>0</td><td>0</td><td>0</td></tr>\n",
       "</tbody>\n",
       "</table>\n"
      ],
      "text/latex": [
       "A data.frame: 1 × 17\n",
       "\\begin{tabular}{r|lllllllllllllllll}\n",
       "  & gid & Y & 총인구 & 유소년인구 & 승용차\\_14시\\_19시 & 혼잡빈도강도합 & 혼잡시간강도합 & 학원 & 체육시설 & 횡단보도 & 아파트 & 삼거리 & 사거리 & 평균유동인구 & 신호등 & 횡단보도길이 & 주정차단속\\\\\n",
       "  & <fct> & <dbl> & <dbl> & <dbl> & <dbl> & <dbl> & <dbl> & <dbl> & <dbl> & <dbl> & <dbl> & <fct> & <fct> & <dbl> & <dbl> & <dbl> & <dbl>\\\\\n",
       "\\hline\n",
       "\t1 & 다사552088 & 0 & 0 & 0 & 0 & 0 & 0 & 0 & 0 & 0 & 0 & 0 & 0 & 0.008264463 & 0 & 0 & 0\\\\\n",
       "\\end{tabular}\n"
      ],
      "text/markdown": [
       "\n",
       "A data.frame: 1 × 17\n",
       "\n",
       "| <!--/--> | gid &lt;fct&gt; | Y &lt;dbl&gt; | 총인구 &lt;dbl&gt; | 유소년인구 &lt;dbl&gt; | 승용차_14시_19시 &lt;dbl&gt; | 혼잡빈도강도합 &lt;dbl&gt; | 혼잡시간강도합 &lt;dbl&gt; | 학원 &lt;dbl&gt; | 체육시설 &lt;dbl&gt; | 횡단보도 &lt;dbl&gt; | 아파트 &lt;dbl&gt; | 삼거리 &lt;fct&gt; | 사거리 &lt;fct&gt; | 평균유동인구 &lt;dbl&gt; | 신호등 &lt;dbl&gt; | 횡단보도길이 &lt;dbl&gt; | 주정차단속 &lt;dbl&gt; |\n",
       "|---|---|---|---|---|---|---|---|---|---|---|---|---|---|---|---|---|---|\n",
       "| 1 | 다사552088 | 0 | 0 | 0 | 0 | 0 | 0 | 0 | 0 | 0 | 0 | 0 | 0 | 0.008264463 | 0 | 0 | 0 |\n",
       "\n"
      ],
      "text/plain": [
       "  gid        Y 총인구 유소년인구 승용차_14시_19시 혼잡빈도강도합 혼잡시간강도합\n",
       "1 다사552088 0 0      0          0                0              0             \n",
       "  학원 체육시설 횡단보도 아파트 삼거리 사거리 평균유동인구 신호등 횡단보도길이\n",
       "1 0    0        0        0      0      0      0.008264463  0      0           \n",
       "  주정차단속\n",
       "1 0         "
      ]
     },
     "metadata": {},
     "output_type": "display_data"
    }
   ],
   "source": [
    "head(df,1)"
   ]
  },
  {
   "cell_type": "code",
   "execution_count": 22,
   "id": "inclusive-relationship",
   "metadata": {},
   "outputs": [],
   "source": [
    "df_x <- df[,-c(1,2,12,13)]"
   ]
  },
  {
   "cell_type": "code",
   "execution_count": 23,
   "id": "loved-laugh",
   "metadata": {},
   "outputs": [
    {
     "name": "stderr",
     "output_type": "stream",
     "text": [
      "Registered S3 method overwritten by 'seriation':\n",
      "  method         from \n",
      "  reorder.hclust gclus\n",
      "\n"
     ]
    },
    {
     "data": {
      "image/png": "[encoded data removed]",
      "text/plain": [
       "plot without title"
      ]
     },
     "metadata": {
      "image/png": {
       "height": 420,
       "width": 420
      }
     },
     "output_type": "display_data"
    }
   ],
   "source": [
    "library(corrgram)\n",
    "corrgram(df_x,upper.panel=panel.conf)"
   ]
  },
  {
   "cell_type": "markdown",
   "id": "identified-frame",
   "metadata": {},
   "source": [
    "- 총인구, 유소년, 아파트 / 승용차, 혼잡빈도강도합, 혼잡시간강도합  / 횡단보도, 신호등, 횡단보도 길이: 세 변수 간 선형성이 있는 걸로 판단된다. "
   ]
  },
  {
   "cell_type": "markdown",
   "id": "variable-telescope",
   "metadata": {},
   "source": [
    "#### 3-2.상관분석\n",
    "\n",
    "H0: 두 변수 간 상관관계가 없다.\n",
    "\n",
    "H1: 두 변수 간 상관관계가 있다."
   ]
  },
  {
   "cell_type": "code",
   "execution_count": 24,
   "id": "adult-dispatch",
   "metadata": {},
   "outputs": [
    {
     "data": {
      "text/plain": [
       "\n",
       "\tPearson's product-moment correlation\n",
       "\n",
       "data:  df_x$총인구 and df_x$유소년인구\n",
       "t = 120.15, df = 2126, p-value < 2.2e-16\n",
       "alternative hypothesis: true correlation is not equal to 0\n",
       "95 percent confidence interval:\n",
       " 0.9279335 0.9388597\n",
       "sample estimates:\n",
       "      cor \n",
       "0.9336133 \n"
      ]
     },
     "metadata": {},
     "output_type": "display_data"
    }
   ],
   "source": [
    "cor.test(df_x$총인구,df_x$유소년인구)"
   ]
  },
  {
   "cell_type": "code",
   "execution_count": 25,
   "id": "unlimited-poverty",
   "metadata": {
    "scrolled": true
   },
   "outputs": [
    {
     "data": {
      "text/plain": [
       "\n",
       "\tPearson's product-moment correlation\n",
       "\n",
       "data:  df_x$총인구 and df_x$아파트\n",
       "t = 48.642, df = 2126, p-value < 2.2e-16\n",
       "alternative hypothesis: true correlation is not equal to 0\n",
       "95 percent confidence interval:\n",
       " 0.7050062 0.7452655\n",
       "sample estimates:\n",
       "      cor \n",
       "0.7257566 \n"
      ]
     },
     "metadata": {},
     "output_type": "display_data"
    }
   ],
   "source": [
    "cor.test(df_x$총인구,df_x$아파트)"
   ]
  },
  {
   "cell_type": "code",
   "execution_count": 26,
   "id": "extraordinary-quilt",
   "metadata": {},
   "outputs": [
    {
     "data": {
      "text/plain": [
       "\n",
       "\tPearson's product-moment correlation\n",
       "\n",
       "data:  df_x$유소년인구 and df_x$아파트\n",
       "t = 38.439, df = 2126, p-value < 2.2e-16\n",
       "alternative hypothesis: true correlation is not equal to 0\n",
       "95 percent confidence interval:\n",
       " 0.6145600 0.6647357\n",
       "sample estimates:\n",
       "      cor \n",
       "0.6403305 \n"
      ]
     },
     "metadata": {},
     "output_type": "display_data"
    }
   ],
   "source": [
    "cor.test(df_x$유소년인구,df_x$아파트)"
   ]
  },
  {
   "cell_type": "code",
   "execution_count": 27,
   "id": "constitutional-carol",
   "metadata": {},
   "outputs": [
    {
     "data": {
      "text/plain": [
       "\n",
       "\tPearson's product-moment correlation\n",
       "\n",
       "data:  df_x$승용차_14시_19시 and df_x$혼잡빈도강도합\n",
       "t = 30.296, df = 2126, p-value < 2.2e-16\n",
       "alternative hypothesis: true correlation is not equal to 0\n",
       "95 percent confidence interval:\n",
       " 0.5187378 0.5781281\n",
       "sample estimates:\n",
       "      cor \n",
       "0.5491259 \n"
      ]
     },
     "metadata": {},
     "output_type": "display_data"
    }
   ],
   "source": [
    "cor.test(df_x$승용차_14시_19시,df_x$혼잡빈도강도합)"
   ]
  },
  {
   "cell_type": "code",
   "execution_count": 28,
   "id": "global-direction",
   "metadata": {},
   "outputs": [
    {
     "data": {
      "text/plain": [
       "\n",
       "\tPearson's product-moment correlation\n",
       "\n",
       "data:  df_x$승용차_14시_19시 and df_x$혼잡시간강도합\n",
       "t = 34.314, df = 2126, p-value < 2.2e-16\n",
       "alternative hypothesis: true correlation is not equal to 0\n",
       "95 percent confidence interval:\n",
       " 0.5689616 0.6236897\n",
       "sample estimates:\n",
       "      cor \n",
       "0.5970198 \n"
      ]
     },
     "metadata": {},
     "output_type": "display_data"
    }
   ],
   "source": [
    "cor.test(df_x$승용차_14시_19시,df_x$혼잡시간강도합)"
   ]
  },
  {
   "cell_type": "code",
   "execution_count": 29,
   "id": "twelve-timing",
   "metadata": {
    "scrolled": true
   },
   "outputs": [
    {
     "data": {
      "text/plain": [
       "\n",
       "\tPearson's product-moment correlation\n",
       "\n",
       "data:  df_x$혼잡빈도강도합 and df_x$혼잡시간강도합\n",
       "t = 280.64, df = 2126, p-value < 2.2e-16\n",
       "alternative hypothesis: true correlation is not equal to 0\n",
       "95 percent confidence interval:\n",
       " 0.9856050 0.9878426\n",
       "sample estimates:\n",
       "      cor \n",
       "0.9867707 \n"
      ]
     },
     "metadata": {},
     "output_type": "display_data"
    }
   ],
   "source": [
    "cor.test(df_x$혼잡빈도강도합,df_x$혼잡시간강도합)"
   ]
  },
  {
   "cell_type": "code",
   "execution_count": 30,
   "id": "multiple-heating",
   "metadata": {},
   "outputs": [
    {
     "data": {
      "text/plain": [
       "\n",
       "\tPearson's product-moment correlation\n",
       "\n",
       "data:  df_x$횡단보도 and df_x$신호등\n",
       "t = 41.178, df = 2126, p-value < 2.2e-16\n",
       "alternative hypothesis: true correlation is not equal to 0\n",
       "95 percent confidence interval:\n",
       " 0.6417761 0.6890912\n",
       "sample estimates:\n",
       "      cor \n",
       "0.6661032 \n"
      ]
     },
     "metadata": {},
     "output_type": "display_data"
    }
   ],
   "source": [
    "cor.test(df_x$횡단보도,df_x$신호등)"
   ]
  },
  {
   "cell_type": "code",
   "execution_count": 31,
   "id": "driven-business",
   "metadata": {},
   "outputs": [
    {
     "data": {
      "text/plain": [
       "\n",
       "\tPearson's product-moment correlation\n",
       "\n",
       "data:  df_x$횡단보도 and df_x$횡단보도길이\n",
       "t = 130.05, df = 2126, p-value < 2.2e-16\n",
       "alternative hypothesis: true correlation is not equal to 0\n",
       "95 percent confidence interval:\n",
       " 0.9375748 0.9470794\n",
       "sample estimates:\n",
       "      cor \n",
       "0.9425174 \n"
      ]
     },
     "metadata": {},
     "output_type": "display_data"
    }
   ],
   "source": [
    "cor.test(df_x$횡단보도,df_x$횡단보도길이)"
   ]
  },
  {
   "cell_type": "code",
   "execution_count": 32,
   "id": "american-cinema",
   "metadata": {
    "scrolled": true
   },
   "outputs": [
    {
     "data": {
      "text/plain": [
       "\n",
       "\tPearson's product-moment correlation\n",
       "\n",
       "data:  df_x$신호등 and df_x$횡단보도길이\n",
       "t = 45.264, df = 2126, p-value < 2.2e-16\n",
       "alternative hypothesis: true correlation is not equal to 0\n",
       "95 percent confidence interval:\n",
       " 0.6782391 0.7215549\n",
       "sample estimates:\n",
       "      cor \n",
       "0.7005417 \n"
      ]
     },
     "metadata": {},
     "output_type": "display_data"
    }
   ],
   "source": [
    "cor.test(df_x$신호등,df_x$횡단보도길이)"
   ]
  },
  {
   "cell_type": "markdown",
   "id": "intellectual-client",
   "metadata": {},
   "source": [
    "- 상관분석 결과, 선형성이 있어 보이는 변수 간 상관관계가 통계적으로 유의므로 다중공선성을 제거해야 한다."
   ]
  },
  {
   "cell_type": "code",
   "execution_count": null,
   "id": "comprehensive-airline",
   "metadata": {},
   "outputs": [],
   "source": []
  },
  {
   "cell_type": "code",
   "execution_count": null,
   "id": "acknowledged-dairy",
   "metadata": {},
   "outputs": [],
   "source": []
  },
  {
   "cell_type": "markdown",
   "id": "historic-section",
   "metadata": {},
   "source": [
    "# 4. 다중공선성 제거\n",
    "상관계수가 가장 높은 변수를 제거해야 하므로 VIF가 10이상인 설명변수들 중에서 VIF가 가장 큰 변수를 제거할 것이다. 그 후 나머지 변수들에 대해 다시 VIF 계산을 하여 VIF가 10이상인 변수를 모두 제거하는 방식을 취한다. \n"
   ]
  },
  {
   "cell_type": "code",
   "execution_count": 33,
   "id": "fitting-terminal",
   "metadata": {},
   "outputs": [],
   "source": [
    "df_x <- df[,-c(1,12,13)]"
   ]
  },
  {
   "cell_type": "code",
   "execution_count": 34,
   "id": "incorporate-burning",
   "metadata": {},
   "outputs": [
    {
     "name": "stderr",
     "output_type": "stream",
     "text": [
      "Loading required package: carData\n",
      "\n"
     ]
    },
    {
     "data": {
      "text/html": [
       "<style>\n",
       ".dl-inline {width: auto; margin:0; padding: 0}\n",
       ".dl-inline>dt, .dl-inline>dd {float: none; width: auto; display: inline-block}\n",
       ".dl-inline>dt::after {content: \":\\0020\"; padding-right: .5ex}\n",
       ".dl-inline>dt:not(:first-of-type) {padding-left: .5ex}\n",
       "</style><dl class=dl-inline><dt>총인구</dt><dd>10.7381109217871</dd><dt>유소년인구</dt><dd>8.59364317278623</dd><dt>승용차_14시_19시</dt><dd>1.86200268457303</dd><dt>혼잡빈도강도합</dt><dd>45.8200859897013</dd><dt>혼잡시간강도합</dt><dd>51.4226976846734</dd><dt>학원</dt><dd>1.31887274129419</dd><dt>체육시설</dt><dd>1.33108041507249</dd><dt>횡단보도</dt><dd>9.57639684919045</dd><dt>아파트</dt><dd>2.19246981325553</dd><dt>평균유동인구</dt><dd>1.17276248973993</dd><dt>신호등</dt><dd>2.02417272070681</dd><dt>횡단보도길이</dt><dd>10.3561149622526</dd><dt>주정차단속</dt><dd>1.13594864911419</dd></dl>\n"
      ],
      "text/latex": [
       "\\begin{description*}\n",
       "\\item[총인구] 10.7381109217871\n",
       "\\item[유소년인구] 8.59364317278623\n",
       "\\item[승용차\\textbackslash{}\\_14시\\textbackslash{}\\_19시] 1.86200268457303\n",
       "\\item[혼잡빈도강도합] 45.8200859897013\n",
       "\\item[혼잡시간강도합] 51.4226976846734\n",
       "\\item[학원] 1.31887274129419\n",
       "\\item[체육시설] 1.33108041507249\n",
       "\\item[횡단보도] 9.57639684919045\n",
       "\\item[아파트] 2.19246981325553\n",
       "\\item[평균유동인구] 1.17276248973993\n",
       "\\item[신호등] 2.02417272070681\n",
       "\\item[횡단보도길이] 10.3561149622526\n",
       "\\item[주정차단속] 1.13594864911419\n",
       "\\end{description*}\n"
      ],
      "text/markdown": [
       "총인구\n",
       ":   10.7381109217871유소년인구\n",
       ":   8.59364317278623승용차_14시_19시\n",
       ":   1.86200268457303혼잡빈도강도합\n",
       ":   45.8200859897013혼잡시간강도합\n",
       ":   51.4226976846734학원\n",
       ":   1.31887274129419체육시설\n",
       ":   1.33108041507249횡단보도\n",
       ":   9.57639684919045아파트\n",
       ":   2.19246981325553평균유동인구\n",
       ":   1.17276248973993신호등\n",
       ":   2.02417272070681횡단보도길이\n",
       ":   10.3561149622526주정차단속\n",
       ":   1.13594864911419\n",
       "\n"
      ],
      "text/plain": [
       "          총인구       유소년인구 승용차_14시_19시   혼잡빈도강도합 \n",
       "       10.738111         8.593643         1.862003        45.820086 \n",
       "  혼잡시간강도합             학원         체육시설         횡단보도 \n",
       "       51.422698         1.318873         1.331080         9.576397 \n",
       "          아파트     평균유동인구           신호등     횡단보도길이 \n",
       "        2.192470         1.172762         2.024173        10.356115 \n",
       "      주정차단속 \n",
       "        1.135949 "
      ]
     },
     "metadata": {},
     "output_type": "display_data"
    }
   ],
   "source": [
    "library(car)\n",
    "vif(lm(Y ~., df_x))"
   ]
  },
  {
   "cell_type": "code",
   "execution_count": 35,
   "id": "consolidated-construction",
   "metadata": {
    "scrolled": true
   },
   "outputs": [],
   "source": [
    "#head(df_x,1)"
   ]
  },
  {
   "cell_type": "code",
   "execution_count": 36,
   "id": "available-envelope",
   "metadata": {
    "scrolled": true
   },
   "outputs": [
    {
     "data": {
      "text/html": [
       "<style>\n",
       ".dl-inline {width: auto; margin:0; padding: 0}\n",
       ".dl-inline>dt, .dl-inline>dd {float: none; width: auto; display: inline-block}\n",
       ".dl-inline>dt::after {content: \":\\0020\"; padding-right: .5ex}\n",
       ".dl-inline>dt:not(:first-of-type) {padding-left: .5ex}\n",
       "</style><dl class=dl-inline><dt>총인구</dt><dd>10.6444386528403</dd><dt>유소년인구</dt><dd>8.51796492187692</dd><dt>승용차_14시_19시</dt><dd>1.61099774576545</dd><dt>혼잡빈도강도합</dt><dd>1.66168796595551</dd><dt>학원</dt><dd>1.31849113711614</dd><dt>체육시설</dt><dd>1.33106795813235</dd><dt>횡단보도</dt><dd>9.57626594608936</dd><dt>아파트</dt><dd>2.19246679763894</dd><dt>평균유동인구</dt><dd>1.16831683139161</dd><dt>신호등</dt><dd>1.99553131474915</dd><dt>횡단보도길이</dt><dd>10.3161444288027</dd><dt>주정차단속</dt><dd>1.13475206952755</dd></dl>\n"
      ],
      "text/latex": [
       "\\begin{description*}\n",
       "\\item[총인구] 10.6444386528403\n",
       "\\item[유소년인구] 8.51796492187692\n",
       "\\item[승용차\\textbackslash{}\\_14시\\textbackslash{}\\_19시] 1.61099774576545\n",
       "\\item[혼잡빈도강도합] 1.66168796595551\n",
       "\\item[학원] 1.31849113711614\n",
       "\\item[체육시설] 1.33106795813235\n",
       "\\item[횡단보도] 9.57626594608936\n",
       "\\item[아파트] 2.19246679763894\n",
       "\\item[평균유동인구] 1.16831683139161\n",
       "\\item[신호등] 1.99553131474915\n",
       "\\item[횡단보도길이] 10.3161444288027\n",
       "\\item[주정차단속] 1.13475206952755\n",
       "\\end{description*}\n"
      ],
      "text/markdown": [
       "총인구\n",
       ":   10.6444386528403유소년인구\n",
       ":   8.51796492187692승용차_14시_19시\n",
       ":   1.61099774576545혼잡빈도강도합\n",
       ":   1.66168796595551학원\n",
       ":   1.31849113711614체육시설\n",
       ":   1.33106795813235횡단보도\n",
       ":   9.57626594608936아파트\n",
       ":   2.19246679763894평균유동인구\n",
       ":   1.16831683139161신호등\n",
       ":   1.99553131474915횡단보도길이\n",
       ":   10.3161444288027주정차단속\n",
       ":   1.13475206952755\n",
       "\n"
      ],
      "text/plain": [
       "          총인구       유소년인구 승용차_14시_19시   혼잡빈도강도합 \n",
       "       10.644439         8.517965         1.610998         1.661688 \n",
       "            학원         체육시설         횡단보도           아파트 \n",
       "        1.318491         1.331068         9.576266         2.192467 \n",
       "    평균유동인구           신호등     횡단보도길이       주정차단속 \n",
       "        1.168317         1.995531        10.316144         1.134752 "
      ]
     },
     "metadata": {},
     "output_type": "display_data"
    }
   ],
   "source": [
    "df_xx <- df_x[,-c(6)]  # 혼잡시간강도합 제거\n",
    "vif(lm(Y ~., df_xx))"
   ]
  },
  {
   "cell_type": "code",
   "execution_count": 37,
   "id": "certified-violence",
   "metadata": {},
   "outputs": [],
   "source": [
    "#head(df_xx,1)"
   ]
  },
  {
   "cell_type": "code",
   "execution_count": 38,
   "id": "fixed-newcastle",
   "metadata": {},
   "outputs": [
    {
     "data": {
      "text/html": [
       "<style>\n",
       ".dl-inline {width: auto; margin:0; padding: 0}\n",
       ".dl-inline>dt, .dl-inline>dd {float: none; width: auto; display: inline-block}\n",
       ".dl-inline>dt::after {content: \":\\0020\"; padding-right: .5ex}\n",
       ".dl-inline>dt:not(:first-of-type) {padding-left: .5ex}\n",
       "</style><dl class=dl-inline><dt>유소년인구</dt><dd>1.74406861475909</dd><dt>승용차_14시_19시</dt><dd>1.59184422867849</dd><dt>혼잡빈도강도합</dt><dd>1.61952097675247</dd><dt>학원</dt><dd>1.31848695517842</dd><dt>체육시설</dt><dd>1.32875327034834</dd><dt>횡단보도</dt><dd>9.55611012638222</dd><dt>아파트</dt><dd>1.74255066947375</dd><dt>평균유동인구</dt><dd>1.15733658201326</dd><dt>신호등</dt><dd>1.99240746156197</dd><dt>횡단보도길이</dt><dd>10.2852656277214</dd><dt>주정차단속</dt><dd>1.12004570214965</dd></dl>\n"
      ],
      "text/latex": [
       "\\begin{description*}\n",
       "\\item[유소년인구] 1.74406861475909\n",
       "\\item[승용차\\textbackslash{}\\_14시\\textbackslash{}\\_19시] 1.59184422867849\n",
       "\\item[혼잡빈도강도합] 1.61952097675247\n",
       "\\item[학원] 1.31848695517842\n",
       "\\item[체육시설] 1.32875327034834\n",
       "\\item[횡단보도] 9.55611012638222\n",
       "\\item[아파트] 1.74255066947375\n",
       "\\item[평균유동인구] 1.15733658201326\n",
       "\\item[신호등] 1.99240746156197\n",
       "\\item[횡단보도길이] 10.2852656277214\n",
       "\\item[주정차단속] 1.12004570214965\n",
       "\\end{description*}\n"
      ],
      "text/markdown": [
       "유소년인구\n",
       ":   1.74406861475909승용차_14시_19시\n",
       ":   1.59184422867849혼잡빈도강도합\n",
       ":   1.61952097675247학원\n",
       ":   1.31848695517842체육시설\n",
       ":   1.32875327034834횡단보도\n",
       ":   9.55611012638222아파트\n",
       ":   1.74255066947375평균유동인구\n",
       ":   1.15733658201326신호등\n",
       ":   1.99240746156197횡단보도길이\n",
       ":   10.2852656277214주정차단속\n",
       ":   1.12004570214965\n",
       "\n"
      ],
      "text/plain": [
       "      유소년인구 승용차_14시_19시   혼잡빈도강도합             학원 \n",
       "        1.744069         1.591844         1.619521         1.318487 \n",
       "        체육시설         횡단보도           아파트     평균유동인구 \n",
       "        1.328753         9.556110         1.742551         1.157337 \n",
       "          신호등     횡단보도길이       주정차단속 \n",
       "        1.992407        10.285266         1.120046 "
      ]
     },
     "metadata": {},
     "output_type": "display_data"
    }
   ],
   "source": [
    "df_xxx <- df_xx[,-c(2)]  # 총인구 제거\n",
    "vif(lm(Y ~., df_xxx))"
   ]
  },
  {
   "cell_type": "code",
   "execution_count": 39,
   "id": "offensive-homeless",
   "metadata": {},
   "outputs": [
    {
     "data": {
      "text/html": [
       "<table>\n",
       "<caption>A data.frame: 1 × 12</caption>\n",
       "<thead>\n",
       "\t<tr><th></th><th scope=col>Y</th><th scope=col>유소년인구</th><th scope=col>승용차_14시_19시</th><th scope=col>혼잡빈도강도합</th><th scope=col>학원</th><th scope=col>체육시설</th><th scope=col>횡단보도</th><th scope=col>아파트</th><th scope=col>평균유동인구</th><th scope=col>신호등</th><th scope=col>횡단보도길이</th><th scope=col>주정차단속</th></tr>\n",
       "\t<tr><th></th><th scope=col>&lt;dbl&gt;</th><th scope=col>&lt;dbl&gt;</th><th scope=col>&lt;dbl&gt;</th><th scope=col>&lt;dbl&gt;</th><th scope=col>&lt;dbl&gt;</th><th scope=col>&lt;dbl&gt;</th><th scope=col>&lt;dbl&gt;</th><th scope=col>&lt;dbl&gt;</th><th scope=col>&lt;dbl&gt;</th><th scope=col>&lt;dbl&gt;</th><th scope=col>&lt;dbl&gt;</th><th scope=col>&lt;dbl&gt;</th></tr>\n",
       "</thead>\n",
       "<tbody>\n",
       "\t<tr><th scope=row>1</th><td>0</td><td>0</td><td>0</td><td>0</td><td>0</td><td>0</td><td>0</td><td>0</td><td>0.008264463</td><td>0</td><td>0</td><td>0</td></tr>\n",
       "</tbody>\n",
       "</table>\n"
      ],
      "text/latex": [
       "A data.frame: 1 × 12\n",
       "\\begin{tabular}{r|llllllllllll}\n",
       "  & Y & 유소년인구 & 승용차\\_14시\\_19시 & 혼잡빈도강도합 & 학원 & 체육시설 & 횡단보도 & 아파트 & 평균유동인구 & 신호등 & 횡단보도길이 & 주정차단속\\\\\n",
       "  & <dbl> & <dbl> & <dbl> & <dbl> & <dbl> & <dbl> & <dbl> & <dbl> & <dbl> & <dbl> & <dbl> & <dbl>\\\\\n",
       "\\hline\n",
       "\t1 & 0 & 0 & 0 & 0 & 0 & 0 & 0 & 0 & 0.008264463 & 0 & 0 & 0\\\\\n",
       "\\end{tabular}\n"
      ],
      "text/markdown": [
       "\n",
       "A data.frame: 1 × 12\n",
       "\n",
       "| <!--/--> | Y &lt;dbl&gt; | 유소년인구 &lt;dbl&gt; | 승용차_14시_19시 &lt;dbl&gt; | 혼잡빈도강도합 &lt;dbl&gt; | 학원 &lt;dbl&gt; | 체육시설 &lt;dbl&gt; | 횡단보도 &lt;dbl&gt; | 아파트 &lt;dbl&gt; | 평균유동인구 &lt;dbl&gt; | 신호등 &lt;dbl&gt; | 횡단보도길이 &lt;dbl&gt; | 주정차단속 &lt;dbl&gt; |\n",
       "|---|---|---|---|---|---|---|---|---|---|---|---|---|\n",
       "| 1 | 0 | 0 | 0 | 0 | 0 | 0 | 0 | 0 | 0.008264463 | 0 | 0 | 0 |\n",
       "\n"
      ],
      "text/plain": [
       "  Y 유소년인구 승용차_14시_19시 혼잡빈도강도합 학원 체육시설 횡단보도 아파트\n",
       "1 0 0          0                0              0    0        0        0     \n",
       "  평균유동인구 신호등 횡단보도길이 주정차단속\n",
       "1 0.008264463  0      0            0         "
      ]
     },
     "metadata": {},
     "output_type": "display_data"
    }
   ],
   "source": [
    "head(df_xxx,1)"
   ]
  },
  {
   "cell_type": "code",
   "execution_count": 40,
   "id": "capable-boring",
   "metadata": {},
   "outputs": [
    {
     "data": {
      "text/html": [
       "<style>\n",
       ".dl-inline {width: auto; margin:0; padding: 0}\n",
       ".dl-inline>dt, .dl-inline>dd {float: none; width: auto; display: inline-block}\n",
       ".dl-inline>dt::after {content: \":\\0020\"; padding-right: .5ex}\n",
       ".dl-inline>dt:not(:first-of-type) {padding-left: .5ex}\n",
       "</style><dl class=dl-inline><dt>유소년인구</dt><dd>1.74343571215857</dd><dt>승용차_14시_19시</dt><dd>1.5320921296663</dd><dt>혼잡빈도강도합</dt><dd>1.60089813115952</dd><dt>학원</dt><dd>1.31625292856191</dd><dt>체육시설</dt><dd>1.32832245753369</dd><dt>횡단보도</dt><dd>1.96226058278277</dd><dt>아파트</dt><dd>1.74216439539207</dd><dt>평균유동인구</dt><dd>1.15672395355821</dd><dt>신호등</dt><dd>1.84273171910253</dd><dt>주정차단속</dt><dd>1.1183184711087</dd></dl>\n"
      ],
      "text/latex": [
       "\\begin{description*}\n",
       "\\item[유소년인구] 1.74343571215857\n",
       "\\item[승용차\\textbackslash{}\\_14시\\textbackslash{}\\_19시] 1.5320921296663\n",
       "\\item[혼잡빈도강도합] 1.60089813115952\n",
       "\\item[학원] 1.31625292856191\n",
       "\\item[체육시설] 1.32832245753369\n",
       "\\item[횡단보도] 1.96226058278277\n",
       "\\item[아파트] 1.74216439539207\n",
       "\\item[평균유동인구] 1.15672395355821\n",
       "\\item[신호등] 1.84273171910253\n",
       "\\item[주정차단속] 1.1183184711087\n",
       "\\end{description*}\n"
      ],
      "text/markdown": [
       "유소년인구\n",
       ":   1.74343571215857승용차_14시_19시\n",
       ":   1.5320921296663혼잡빈도강도합\n",
       ":   1.60089813115952학원\n",
       ":   1.31625292856191체육시설\n",
       ":   1.32832245753369횡단보도\n",
       ":   1.96226058278277아파트\n",
       ":   1.74216439539207평균유동인구\n",
       ":   1.15672395355821신호등\n",
       ":   1.84273171910253주정차단속\n",
       ":   1.1183184711087\n",
       "\n"
      ],
      "text/plain": [
       "      유소년인구 승용차_14시_19시   혼잡빈도강도합             학원 \n",
       "        1.743436         1.532092         1.600898         1.316253 \n",
       "        체육시설         횡단보도           아파트     평균유동인구 \n",
       "        1.328322         1.962261         1.742164         1.156724 \n",
       "          신호등       주정차단속 \n",
       "        1.842732         1.118318 "
      ]
     },
     "metadata": {},
     "output_type": "display_data"
    }
   ],
   "source": [
    "df_xxxx <- df_xxx[,-c(11)]  # 횡단보도길이 제거\n",
    "vif(lm(Y ~., df_xxxx))"
   ]
  },
  {
   "cell_type": "markdown",
   "id": "built-expense",
   "metadata": {},
   "source": [
    "- 혼잡시간강도합, 총인구, 횡단보도길이 세 변수를 제거함으로써 다중공선성 문제가 해결되었다."
   ]
  },
  {
   "cell_type": "code",
   "execution_count": null,
   "id": "cutting-coordinator",
   "metadata": {},
   "outputs": [],
   "source": []
  },
  {
   "cell_type": "code",
   "execution_count": null,
   "id": "completed-money",
   "metadata": {},
   "outputs": [],
   "source": []
  },
  {
   "cell_type": "markdown",
   "id": "floating-integrity",
   "metadata": {},
   "source": [
    "# 5. 데이터 분할"
   ]
  },
  {
   "cell_type": "markdown",
   "id": "starting-oasis",
   "metadata": {},
   "source": [
    "### 1) 분할한 데이터 불러오기"
   ]
  },
  {
   "cell_type": "code",
   "execution_count": 41,
   "id": "vietnamese-guinea",
   "metadata": {},
   "outputs": [
    {
     "data": {
      "text/html": [
       "<table>\n",
       "<caption>A data.frame: 1 × 17</caption>\n",
       "<thead>\n",
       "\t<tr><th></th><th scope=col>gid</th><th scope=col>Y</th><th scope=col>총인구</th><th scope=col>유소년인구</th><th scope=col>승용차_14시_19시</th><th scope=col>혼잡빈도강도합</th><th scope=col>혼잡시간강도합</th><th scope=col>학원</th><th scope=col>체육시설</th><th scope=col>횡단보도</th><th scope=col>아파트</th><th scope=col>삼거리</th><th scope=col>사거리</th><th scope=col>평균유동인구</th><th scope=col>신호등</th><th scope=col>횡단보도길이</th><th scope=col>주정차단속</th></tr>\n",
       "\t<tr><th></th><th scope=col>&lt;fct&gt;</th><th scope=col>&lt;dbl&gt;</th><th scope=col>&lt;dbl&gt;</th><th scope=col>&lt;dbl&gt;</th><th scope=col>&lt;dbl&gt;</th><th scope=col>&lt;dbl&gt;</th><th scope=col>&lt;dbl&gt;</th><th scope=col>&lt;dbl&gt;</th><th scope=col>&lt;dbl&gt;</th><th scope=col>&lt;dbl&gt;</th><th scope=col>&lt;dbl&gt;</th><th scope=col>&lt;fct&gt;</th><th scope=col>&lt;fct&gt;</th><th scope=col>&lt;dbl&gt;</th><th scope=col>&lt;dbl&gt;</th><th scope=col>&lt;dbl&gt;</th><th scope=col>&lt;dbl&gt;</th></tr>\n",
       "</thead>\n",
       "<tbody>\n",
       "\t<tr><th scope=row>1</th><td>다사552088</td><td>0</td><td>0</td><td>0</td><td>0</td><td>0</td><td>0</td><td>0</td><td>0</td><td>0</td><td>0</td><td>0</td><td>0</td><td>0.008264463</td><td>0</td><td>0</td><td>0</td></tr>\n",
       "</tbody>\n",
       "</table>\n"
      ],
      "text/latex": [
       "A data.frame: 1 × 17\n",
       "\\begin{tabular}{r|lllllllllllllllll}\n",
       "  & gid & Y & 총인구 & 유소년인구 & 승용차\\_14시\\_19시 & 혼잡빈도강도합 & 혼잡시간강도합 & 학원 & 체육시설 & 횡단보도 & 아파트 & 삼거리 & 사거리 & 평균유동인구 & 신호등 & 횡단보도길이 & 주정차단속\\\\\n",
       "  & <fct> & <dbl> & <dbl> & <dbl> & <dbl> & <dbl> & <dbl> & <dbl> & <dbl> & <dbl> & <dbl> & <fct> & <fct> & <dbl> & <dbl> & <dbl> & <dbl>\\\\\n",
       "\\hline\n",
       "\t1 & 다사552088 & 0 & 0 & 0 & 0 & 0 & 0 & 0 & 0 & 0 & 0 & 0 & 0 & 0.008264463 & 0 & 0 & 0\\\\\n",
       "\\end{tabular}\n"
      ],
      "text/markdown": [
       "\n",
       "A data.frame: 1 × 17\n",
       "\n",
       "| <!--/--> | gid &lt;fct&gt; | Y &lt;dbl&gt; | 총인구 &lt;dbl&gt; | 유소년인구 &lt;dbl&gt; | 승용차_14시_19시 &lt;dbl&gt; | 혼잡빈도강도합 &lt;dbl&gt; | 혼잡시간강도합 &lt;dbl&gt; | 학원 &lt;dbl&gt; | 체육시설 &lt;dbl&gt; | 횡단보도 &lt;dbl&gt; | 아파트 &lt;dbl&gt; | 삼거리 &lt;fct&gt; | 사거리 &lt;fct&gt; | 평균유동인구 &lt;dbl&gt; | 신호등 &lt;dbl&gt; | 횡단보도길이 &lt;dbl&gt; | 주정차단속 &lt;dbl&gt; |\n",
       "|---|---|---|---|---|---|---|---|---|---|---|---|---|---|---|---|---|---|\n",
       "| 1 | 다사552088 | 0 | 0 | 0 | 0 | 0 | 0 | 0 | 0 | 0 | 0 | 0 | 0 | 0.008264463 | 0 | 0 | 0 |\n",
       "\n"
      ],
      "text/plain": [
       "  gid        Y 총인구 유소년인구 승용차_14시_19시 혼잡빈도강도합 혼잡시간강도합\n",
       "1 다사552088 0 0      0          0                0              0             \n",
       "  학원 체육시설 횡단보도 아파트 삼거리 사거리 평균유동인구 신호등 횡단보도길이\n",
       "1 0    0        0        0      0      0      0.008264463  0      0           \n",
       "  주정차단속\n",
       "1 0         "
      ]
     },
     "metadata": {},
     "output_type": "display_data"
    }
   ],
   "source": [
    "head(df,1)"
   ]
  },
  {
   "cell_type": "code",
   "execution_count": 42,
   "id": "forty-beads",
   "metadata": {},
   "outputs": [],
   "source": [
    "df = df[,-c(3,7,16)]  # VIF가 10이상인 변수들 삭제\n",
    "train_by_python = train_by_python[,-c(3,7,16)]  # VIF가 10이상인 변수들 삭제\n",
    "test_by_python = test_by_python[,-c(3,7,16)]  # VIF가 10이상인 변수들 삭제"
   ]
  },
  {
   "cell_type": "code",
   "execution_count": 43,
   "id": "metallic-merchant",
   "metadata": {},
   "outputs": [],
   "source": [
    "df$Y <- as.factor(df$Y)  # factor형 변환"
   ]
  },
  {
   "cell_type": "code",
   "execution_count": 44,
   "id": "minute-scanning",
   "metadata": {},
   "outputs": [
    {
     "name": "stderr",
     "output_type": "stream",
     "text": [
      "Loading required package: lattice\n",
      "\n",
      "\n",
      "Attaching package: ‘lattice’\n",
      "\n",
      "\n",
      "The following object is masked from ‘package:corrgram’:\n",
      "\n",
      "    panel.fill\n",
      "\n",
      "\n",
      "Loading required package: ggplot2\n",
      "\n"
     ]
    }
   ],
   "source": [
    "library(caret)\n",
    "\n",
    "set.seed(1000)\n",
    "idx <- createDataPartition(y = df$Y, p = 0.8,list = F)\n",
    "\n",
    "train_Y <- df[idx,]\n",
    "test_Y <- df[-idx,]"
   ]
  },
  {
   "cell_type": "code",
   "execution_count": 45,
   "id": "digital-mexico",
   "metadata": {},
   "outputs": [],
   "source": [
    "#head(train_Y,1)"
   ]
  },
  {
   "cell_type": "code",
   "execution_count": 46,
   "id": "prescribed-fault",
   "metadata": {},
   "outputs": [],
   "source": [
    "#head(train_by_python,1)"
   ]
  },
  {
   "cell_type": "code",
   "execution_count": 47,
   "id": "demanding-facing",
   "metadata": {},
   "outputs": [],
   "source": [
    "train_Y <- train_by_python\n",
    "test_Y <- test_by_python"
   ]
  },
  {
   "cell_type": "code",
   "execution_count": null,
   "id": "optimum-durham",
   "metadata": {},
   "outputs": [],
   "source": []
  },
  {
   "cell_type": "code",
   "execution_count": null,
   "id": "reserved-norway",
   "metadata": {},
   "outputs": [],
   "source": []
  },
  {
   "cell_type": "markdown",
   "id": "empty-lottery",
   "metadata": {},
   "source": [
    "# 6. 로지스틱 회귀분석"
   ]
  },
  {
   "cell_type": "code",
   "execution_count": 48,
   "id": "meaning-burning",
   "metadata": {},
   "outputs": [
    {
     "data": {
      "text/plain": [
       "\n",
       "Call:\n",
       "glm(formula = Y ~ ., family = \"binomial\", data = train_Y[, -1])\n",
       "\n",
       "Deviance Residuals: \n",
       "    Min       1Q   Median       3Q      Max  \n",
       "-2.9282  -1.1399   0.4297   0.8451   1.2444  \n",
       "\n",
       "Coefficients:\n",
       "                   Estimate Std. Error z value Pr(>|z|)    \n",
       "(Intercept)      -8.880e-02  8.620e-02  -1.030 0.302927    \n",
       "유소년인구       -2.406e-03  2.918e-03  -0.824 0.409662    \n",
       "승용차_14시_19시  1.332e-05  6.330e-06   2.105 0.035316 *  \n",
       "혼잡빈도강도합    1.828e-03  3.064e-04   5.967 2.42e-09 ***\n",
       "학원              4.258e-02  3.634e-02   1.172 0.241245    \n",
       "체육시설         -9.250e-02  3.302e-01  -0.280 0.779374    \n",
       "횡단보도         -3.705e-02  8.316e-02  -0.446 0.655957    \n",
       "아파트            4.110e-01  1.066e-01   3.855 0.000116 ***\n",
       "삼거리            5.897e-02  2.278e-01   0.259 0.795728    \n",
       "사거리            6.222e-01  2.706e-01   2.300 0.021463 *  \n",
       "평균유동인구      6.528e-02  1.307e-02   4.993 5.95e-07 ***\n",
       "신호등           -4.909e-04  5.850e-02  -0.008 0.993304    \n",
       "주정차단속        8.492e-03  4.595e-03   1.848 0.064592 .  \n",
       "---\n",
       "Signif. codes:  0 ‘***’ 0.001 ‘**’ 0.01 ‘*’ 0.05 ‘.’ 0.1 ‘ ’ 1\n",
       "\n",
       "(Dispersion parameter for binomial family taken to be 1)\n",
       "\n",
       "    Null deviance: 1970.2  on 1701  degrees of freedom\n",
       "Residual deviance: 1644.3  on 1689  degrees of freedom\n",
       "AIC: 1670.3\n",
       "\n",
       "Number of Fisher Scoring iterations: 7\n"
      ]
     },
     "metadata": {},
     "output_type": "display_data"
    }
   ],
   "source": [
    "logistic_Y <- glm(Y~.,data=train_Y[,-1],family=\"binomial\")\n",
    "summary(logistic_Y)"
   ]
  },
  {
   "cell_type": "markdown",
   "id": "fluid-texture",
   "metadata": {},
   "source": [
    "- 로지스틱 회귀분석 결과 독립변수가 유의수준 0.05하에서 유의하지 않은 것이 존재한다. \n",
    "\n",
    "\n",
    "- 따라서, 단계적 선택법을 통해 의미있는 독립변수를 선택하고자 한다."
   ]
  },
  {
   "cell_type": "code",
   "execution_count": null,
   "id": "damaged-control",
   "metadata": {},
   "outputs": [],
   "source": []
  },
  {
   "cell_type": "code",
   "execution_count": null,
   "id": "ideal-disney",
   "metadata": {},
   "outputs": [],
   "source": []
  },
  {
   "cell_type": "markdown",
   "id": "color-russia",
   "metadata": {},
   "source": [
    "# 7. 단계적 선택법"
   ]
  },
  {
   "cell_type": "code",
   "execution_count": 49,
   "id": "matched-germany",
   "metadata": {
    "scrolled": false
   },
   "outputs": [
    {
     "name": "stdout",
     "output_type": "stream",
     "text": [
      "Start:  AIC=1670.33\n",
      "Y ~ 유소년인구 + 승용차_14시_19시 + 혼잡빈도강도합 + \n",
      "    학원 + 체육시설 + 횡단보도 + 아파트 + 삼거리 + \n",
      "    사거리 + 평균유동인구 + 신호등 + 주정차단속\n",
      "\n",
      "                   Df Deviance    AIC\n",
      "- 신호등            1   1644.3 1668.3\n",
      "- 삼거리            1   1644.4 1668.4\n",
      "- 체육시설          1   1644.4 1668.4\n",
      "- 횡단보도          1   1644.5 1668.5\n",
      "- 유소년인구        1   1645.0 1669.0\n",
      "- 학원              1   1646.1 1670.1\n",
      "<none>                  1644.3 1670.3\n",
      "- 승용차_14시_19시  1   1649.0 1673.0\n",
      "- 사거리            1   1650.1 1674.1\n",
      "- 주정차단속        1   1651.2 1675.2\n",
      "- 아파트            1   1665.2 1689.2\n",
      "- 평균유동인구      1   1678.5 1702.5\n",
      "- 혼잡빈도강도합    1   1692.5 1716.5\n",
      "\n",
      "Step:  AIC=1668.33\n",
      "Y ~ 유소년인구 + 승용차_14시_19시 + 혼잡빈도강도합 + \n",
      "    학원 + 체육시설 + 횡단보도 + 아파트 + 삼거리 + \n",
      "    사거리 + 평균유동인구 + 주정차단속\n",
      "\n",
      "                   Df Deviance    AIC\n",
      "- 삼거리            1   1644.4 1666.4\n",
      "- 체육시설          1   1644.4 1666.4\n",
      "- 횡단보도          1   1644.7 1666.7\n",
      "- 유소년인구        1   1645.0 1667.0\n",
      "- 학원              1   1646.1 1668.1\n",
      "<none>                  1644.3 1668.3\n",
      "+ 신호등            1   1644.3 1670.3\n",
      "- 승용차_14시_19시  1   1649.0 1671.0\n",
      "- 사거리            1   1650.1 1672.1\n",
      "- 주정차단속        1   1651.2 1673.2\n",
      "- 아파트            1   1665.2 1687.2\n",
      "- 평균유동인구      1   1678.5 1700.5\n",
      "- 혼잡빈도강도합    1   1692.6 1714.6\n",
      "\n",
      "Step:  AIC=1666.4\n",
      "Y ~ 유소년인구 + 승용차_14시_19시 + 혼잡빈도강도합 + \n",
      "    학원 + 체육시설 + 횡단보도 + 아파트 + 사거리 + \n",
      "    평균유동인구 + 주정차단속\n",
      "\n",
      "                   Df Deviance    AIC\n",
      "- 체육시설          1   1644.5 1664.5\n",
      "- 횡단보도          1   1644.7 1664.7\n",
      "- 유소년인구        1   1645.1 1665.1\n",
      "- 학원              1   1646.1 1666.1\n",
      "<none>                  1644.4 1666.4\n",
      "+ 삼거리            1   1644.3 1668.3\n",
      "+ 신호등            1   1644.4 1668.4\n",
      "- 사거리            1   1650.1 1670.1\n",
      "- 승용차_14시_19시  1   1650.5 1670.5\n",
      "- 주정차단속        1   1651.2 1671.2\n",
      "- 아파트            1   1665.2 1685.2\n",
      "- 평균유동인구      1   1678.7 1698.7\n",
      "- 혼잡빈도강도합    1   1692.7 1712.7\n",
      "\n",
      "Step:  AIC=1664.48\n",
      "Y ~ 유소년인구 + 승용차_14시_19시 + 혼잡빈도강도합 + \n",
      "    학원 + 횡단보도 + 아파트 + 사거리 + 평균유동인구 + \n",
      "    주정차단속\n",
      "\n",
      "                   Df Deviance    AIC\n",
      "- 횡단보도          1   1644.8 1662.8\n",
      "- 유소년인구        1   1645.2 1663.2\n",
      "- 학원              1   1646.2 1664.2\n",
      "<none>                  1644.5 1664.5\n",
      "+ 체육시설          1   1644.4 1666.4\n",
      "+ 삼거리            1   1644.4 1666.4\n",
      "+ 신호등            1   1644.5 1666.5\n",
      "- 사거리            1   1650.2 1668.2\n",
      "- 승용차_14시_19시  1   1650.6 1668.6\n",
      "- 주정차단속        1   1651.2 1669.2\n",
      "- 아파트            1   1665.3 1683.3\n",
      "- 평균유동인구      1   1678.7 1696.7\n",
      "- 혼잡빈도강도합    1   1692.7 1710.7\n",
      "\n",
      "Step:  AIC=1662.76\n",
      "Y ~ 유소년인구 + 승용차_14시_19시 + 혼잡빈도강도합 + \n",
      "    학원 + 아파트 + 사거리 + 평균유동인구 + 주정차단속\n",
      "\n",
      "                   Df Deviance    AIC\n",
      "- 유소년인구        1   1645.5 1661.5\n",
      "- 학원              1   1646.4 1662.4\n",
      "<none>                  1644.8 1662.8\n",
      "+ 횡단보도          1   1644.5 1664.5\n",
      "+ 신호등            1   1644.7 1664.7\n",
      "+ 체육시설          1   1644.7 1664.7\n",
      "+ 삼거리            1   1644.7 1664.7\n",
      "- 사거리            1   1650.4 1666.4\n",
      "- 승용차_14시_19시  1   1650.7 1666.7\n",
      "- 주정차단속        1   1651.3 1667.3\n",
      "- 아파트            1   1665.7 1681.7\n",
      "- 평균유동인구      1   1678.7 1694.7\n",
      "- 혼잡빈도강도합    1   1693.9 1709.9\n",
      "\n",
      "Step:  AIC=1661.52\n",
      "Y ~ 승용차_14시_19시 + 혼잡빈도강도합 + 학원 + \n",
      "    아파트 + 사거리 + 평균유동인구 + 주정차단속\n",
      "\n",
      "                   Df Deviance    AIC\n",
      "- 학원              1   1647.0 1661.0\n",
      "<none>                  1645.5 1661.5\n",
      "+ 유소년인구        1   1644.8 1662.8\n",
      "+ 횡단보도          1   1645.2 1663.2\n",
      "+ 신호등            1   1645.4 1663.4\n",
      "+ 체육시설          1   1645.4 1663.4\n",
      "+ 삼거리            1   1645.5 1663.5\n",
      "- 사거리            1   1651.1 1665.1\n",
      "- 승용차_14시_19시  1   1651.6 1665.6\n",
      "- 주정차단속        1   1652.0 1666.0\n",
      "- 아파트            1   1677.7 1691.7\n",
      "- 평균유동인구      1   1679.3 1693.3\n",
      "- 혼잡빈도강도합    1   1695.1 1709.1\n",
      "\n",
      "Step:  AIC=1661\n",
      "Y ~ 승용차_14시_19시 + 혼잡빈도강도합 + 아파트 + \n",
      "    사거리 + 평균유동인구 + 주정차단속\n",
      "\n",
      "                   Df Deviance    AIC\n",
      "<none>                  1647.0 1661.0\n",
      "+ 학원              1   1645.5 1661.5\n",
      "+ 유소년인구        1   1646.4 1662.4\n",
      "+ 횡단보도          1   1646.7 1662.7\n",
      "+ 신호등            1   1646.9 1662.9\n",
      "+ 삼거리            1   1647.0 1663.0\n",
      "+ 체육시설          1   1647.0 1663.0\n",
      "- 사거리            1   1652.5 1664.5\n",
      "- 승용차_14시_19시  1   1652.9 1664.9\n",
      "- 주정차단속        1   1654.3 1666.3\n",
      "- 아파트            1   1680.6 1692.6\n",
      "- 평균유동인구      1   1681.5 1693.5\n",
      "- 혼잡빈도강도합    1   1697.9 1709.9\n"
     ]
    }
   ],
   "source": [
    "step.logistic_Y <- step(glm(Y~.,data=train_Y[,-1],family=\"binomial\"),\n",
    "                      scope=list(lower=~1,upper=~유소년인구+승용차_14시_19시+혼잡빈도강도합+학원+체육시설+횡단보도+아파트+삼거리+사거리+평균유동인구+신호등+주정차단속),direction=\"both\")"
   ]
  },
  {
   "cell_type": "markdown",
   "id": "subsequent-ordinary",
   "metadata": {},
   "source": [
    "- 일곱번째 단계까지의 결과를 최종모형으로 사용한다."
   ]
  },
  {
   "cell_type": "code",
   "execution_count": 50,
   "id": "printable-sheep",
   "metadata": {},
   "outputs": [
    {
     "data": {
      "text/plain": [
       "\n",
       "Call:\n",
       "glm(formula = Y ~ 승용차_14시_19시 + 혼잡빈도강도합 + \n",
       "    아파트 + 사거리 + 평균유동인구 + 주정차단속, \n",
       "    family = \"binomial\", data = train_Y[, -1])\n",
       "\n",
       "Deviance Residuals: \n",
       "    Min       1Q   Median       3Q      Max  \n",
       "-2.9183  -1.1372   0.4333   0.8441   1.2181  \n",
       "\n",
       "Coefficients:\n",
       "                   Estimate Std. Error z value Pr(>|z|)    \n",
       "(Intercept)      -9.527e-02  8.495e-02  -1.121   0.2621    \n",
       "승용차_14시_19시  1.378e-05  5.860e-06   2.351   0.0187 *  \n",
       "혼잡빈도강도합    1.815e-03  2.965e-04   6.123 9.18e-10 ***\n",
       "아파트            3.536e-01  7.194e-02   4.914 8.90e-07 ***\n",
       "사거리            6.025e-01  2.687e-01   2.242   0.0249 *  \n",
       "평균유동인구      6.535e-02  1.302e-02   5.020 5.17e-07 ***\n",
       "주정차단속        8.514e-03  4.514e-03   1.886   0.0593 .  \n",
       "---\n",
       "Signif. codes:  0 ‘***’ 0.001 ‘**’ 0.01 ‘*’ 0.05 ‘.’ 0.1 ‘ ’ 1\n",
       "\n",
       "(Dispersion parameter for binomial family taken to be 1)\n",
       "\n",
       "    Null deviance: 1970.2  on 1701  degrees of freedom\n",
       "Residual deviance: 1647.0  on 1695  degrees of freedom\n",
       "AIC: 1661\n",
       "\n",
       "Number of Fisher Scoring iterations: 7\n"
      ]
     },
     "metadata": {},
     "output_type": "display_data"
    }
   ],
   "source": [
    "step.logistic_Y <- glm(Y ~ 승용차_14시_19시 + 혼잡빈도강도합 + 아파트 + \n",
    "    사거리 + 평균유동인구 + 주정차단속,data=train_Y[,-1],family=\"binomial\")\n",
    "summary(step.logistic_Y)"
   ]
  },
  {
   "cell_type": "markdown",
   "id": "voluntary-chocolate",
   "metadata": {},
   "source": [
    "### 분석결과\n",
    "- 다중공선성 문제로 총인구, 혼잡시간강도, 횡단보도길이 변수가 제외되었다.\n",
    "- 단계적 변수선택법을 통해 승용차_14시_19시, 혼잡빈도강도합, 아파트, 사거리, 평균유동인구, 주정차단속 - 6개의 변수가 선택되었다.\n",
    "- 선택된 6개의 변수들을 이용해 Python에서 로지스틱 회귀분석 및 어린이교통사고 위험 지수 개발을 진행한다."
   ]
  },
  {
   "cell_type": "code",
   "execution_count": null,
   "id": "absent-collins",
   "metadata": {},
   "outputs": [],
   "source": []
  }
 ],
 "metadata": {
  "kernelspec": {
   "display_name": "R",
   "language": "R",
   "name": "ir"
  },
  "language_info": {
   "codemirror_mode": "r",
   "file_extension": ".r",
   "mimetype": "text/x-r-source",
   "name": "R",
   "pygments_lexer": "r",
   "version": "3.6.0"
  }
 },
 "nbformat": 4,
 "nbformat_minor": 5
}
