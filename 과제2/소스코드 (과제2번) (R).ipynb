{
 "cells": [
  {
   "cell_type": "markdown",
   "metadata": {},
   "source": [
    "### 1. DEA분석 데이터셋 불러오기\n",
    "- 설명: python 소스코드 2-1.에서 만들고 저장한 DEA분석용 데이터셋(dea_data.csv)을 불러온다"
   ]
  },
  {
   "cell_type": "code",
   "execution_count": 27,
   "metadata": {},
   "outputs": [
    {
     "data": {
      "text/html": [
       "<table>\n",
       "<caption>A data.frame: 3 × 18</caption>\n",
       "<thead>\n",
       "\t<tr><th></th><th scope=col>X</th><th scope=col>보호구역명</th><th scope=col>x1_주정차단속</th><th scope=col>x2_차량등록수</th><th scope=col>x3_유소년인구</th><th scope=col>x4_총인구</th><th scope=col>x5_유동인구</th><th scope=col>x6_학교_유치원</th><th scope=col>x7_교통량_승용차</th><th scope=col>x8_혼잡빈도강도</th><th scope=col>x9_혼잡시간강도</th><th scope=col>x10_학원_체육도장</th><th scope=col>y1_CCTV_보호구역</th><th scope=col>y2_단속카메라_불법주정차</th><th scope=col>y3_도로안전표지</th><th scope=col>y4_과속방지턱</th><th scope=col>y5_신호등</th><th scope=col>y6_CCTV_과속단속</th></tr>\n",
       "\t<tr><th></th><th scope=col>&lt;int&gt;</th><th scope=col>&lt;fct&gt;</th><th scope=col>&lt;int&gt;</th><th scope=col>&lt;dbl&gt;</th><th scope=col>&lt;dbl&gt;</th><th scope=col>&lt;dbl&gt;</th><th scope=col>&lt;dbl&gt;</th><th scope=col>&lt;int&gt;</th><th scope=col>&lt;dbl&gt;</th><th scope=col>&lt;dbl&gt;</th><th scope=col>&lt;dbl&gt;</th><th scope=col>&lt;int&gt;</th><th scope=col>&lt;int&gt;</th><th scope=col>&lt;int&gt;</th><th scope=col>&lt;int&gt;</th><th scope=col>&lt;int&gt;</th><th scope=col>&lt;int&gt;</th><th scope=col>&lt;int&gt;</th></tr>\n",
       "</thead>\n",
       "<tbody>\n",
       "\t<tr><th scope=row>1</th><td>0</td><td>성심학교    </td><td> 0</td><td>9</td><td>0</td><td>112</td><td>  376.01</td><td>0</td><td> 1627.98</td><td>325.05</td><td>340.96</td><td>0</td><td>0</td><td>0</td><td>0</td><td>0</td><td> 0</td><td>0</td></tr>\n",
       "\t<tr><th scope=row>2</th><td>1</td><td>가수초등학교</td><td>19</td><td>0</td><td>0</td><td>  0</td><td> 2658.70</td><td>4</td><td>  800.41</td><td> 88.22</td><td>145.36</td><td>5</td><td>1</td><td>0</td><td>0</td><td>0</td><td> 0</td><td>0</td></tr>\n",
       "\t<tr><th scope=row>3</th><td>2</td><td>광성초등학교</td><td>19</td><td>0</td><td>0</td><td>  0</td><td>33513.36</td><td>6</td><td>15911.12</td><td>  2.04</td><td> 10.68</td><td>6</td><td>2</td><td>1</td><td>6</td><td>0</td><td>12</td><td>0</td></tr>\n",
       "</tbody>\n",
       "</table>\n"
      ],
      "text/latex": [
       "A data.frame: 3 × 18\n",
       "\\begin{tabular}{r|llllllllllllllllll}\n",
       "  & X & 보호구역명 & x1\\_주정차단속 & x2\\_차량등록수 & x3\\_유소년인구 & x4\\_총인구 & x5\\_유동인구 & x6\\_학교\\_유치원 & x7\\_교통량\\_승용차 & x8\\_혼잡빈도강도 & x9\\_혼잡시간강도 & x10\\_학원\\_체육도장 & y1\\_CCTV\\_보호구역 & y2\\_단속카메라\\_불법주정차 & y3\\_도로안전표지 & y4\\_과속방지턱 & y5\\_신호등 & y6\\_CCTV\\_과속단속\\\\\n",
       "  & <int> & <fct> & <int> & <dbl> & <dbl> & <dbl> & <dbl> & <int> & <dbl> & <dbl> & <dbl> & <int> & <int> & <int> & <int> & <int> & <int> & <int>\\\\\n",
       "\\hline\n",
       "\t1 & 0 & 성심학교     &  0 & 9 & 0 & 112 &   376.01 & 0 &  1627.98 & 325.05 & 340.96 & 0 & 0 & 0 & 0 & 0 &  0 & 0\\\\\n",
       "\t2 & 1 & 가수초등학교 & 19 & 0 & 0 &   0 &  2658.70 & 4 &   800.41 &  88.22 & 145.36 & 5 & 1 & 0 & 0 & 0 &  0 & 0\\\\\n",
       "\t3 & 2 & 광성초등학교 & 19 & 0 & 0 &   0 & 33513.36 & 6 & 15911.12 &   2.04 &  10.68 & 6 & 2 & 1 & 6 & 0 & 12 & 0\\\\\n",
       "\\end{tabular}\n"
      ],
      "text/markdown": [
       "\n",
       "A data.frame: 3 × 18\n",
       "\n",
       "| <!--/--> | X &lt;int&gt; | 보호구역명 &lt;fct&gt; | x1_주정차단속 &lt;int&gt; | x2_차량등록수 &lt;dbl&gt; | x3_유소년인구 &lt;dbl&gt; | x4_총인구 &lt;dbl&gt; | x5_유동인구 &lt;dbl&gt; | x6_학교_유치원 &lt;int&gt; | x7_교통량_승용차 &lt;dbl&gt; | x8_혼잡빈도강도 &lt;dbl&gt; | x9_혼잡시간강도 &lt;dbl&gt; | x10_학원_체육도장 &lt;int&gt; | y1_CCTV_보호구역 &lt;int&gt; | y2_단속카메라_불법주정차 &lt;int&gt; | y3_도로안전표지 &lt;int&gt; | y4_과속방지턱 &lt;int&gt; | y5_신호등 &lt;int&gt; | y6_CCTV_과속단속 &lt;int&gt; |\n",
       "|---|---|---|---|---|---|---|---|---|---|---|---|---|---|---|---|---|---|---|\n",
       "| 1 | 0 | 성심학교     |  0 | 9 | 0 | 112 |   376.01 | 0 |  1627.98 | 325.05 | 340.96 | 0 | 0 | 0 | 0 | 0 |  0 | 0 |\n",
       "| 2 | 1 | 가수초등학교 | 19 | 0 | 0 |   0 |  2658.70 | 4 |   800.41 |  88.22 | 145.36 | 5 | 1 | 0 | 0 | 0 |  0 | 0 |\n",
       "| 3 | 2 | 광성초등학교 | 19 | 0 | 0 |   0 | 33513.36 | 6 | 15911.12 |   2.04 |  10.68 | 6 | 2 | 1 | 6 | 0 | 12 | 0 |\n",
       "\n"
      ],
      "text/plain": [
       "  X 보호구역명   x1_주정차단속 x2_차량등록수 x3_유소년인구 x4_총인구\n",
       "1 0 성심학교      0            9             0             112      \n",
       "2 1 가수초등학교 19            0             0               0      \n",
       "3 2 광성초등학교 19            0             0               0      \n",
       "  x5_유동인구 x6_학교_유치원 x7_교통량_승용차 x8_혼잡빈도강도 x9_혼잡시간강도\n",
       "1   376.01    0               1627.98         325.05          340.96         \n",
       "2  2658.70    4                800.41          88.22          145.36         \n",
       "3 33513.36    6              15911.12           2.04           10.68         \n",
       "  x10_학원_체육도장 y1_CCTV_보호구역 y2_단속카메라_불법주정차 y3_도로안전표지\n",
       "1 0                 0                0                        0              \n",
       "2 5                 1                0                        0              \n",
       "3 6                 2                1                        6              \n",
       "  y4_과속방지턱 y5_신호등 y6_CCTV_과속단속\n",
       "1 0              0        0               \n",
       "2 0              0        0               \n",
       "3 0             12        0               "
      ]
     },
     "metadata": {},
     "output_type": "display_data"
    }
   ],
   "source": [
    "df <- read.csv('dea_data.csv')\n",
    "head(df,3)"
   ]
  },
  {
   "cell_type": "markdown",
   "metadata": {},
   "source": [
    "### 2. 데이터셋 전처리\n",
    "- 설명: 어떤 지역의 여러 산출물(y변수) 값이 모두 0인 경우, 효율성 점수를 구하는 수식의 분모가 0이 되어 효율성 점수가 inf(무한대)로 산출되는 문제가 있어, y변수의 값이 0인 경우 0.1로 변환\n",
    "- y변수 중 신호등은 분석에 적절하지 않다고 판단해 제거함 (PPT에 관련 내용 첨부)"
   ]
  },
  {
   "cell_type": "code",
   "execution_count": 28,
   "metadata": {},
   "outputs": [],
   "source": [
    "library(dplyr)\n",
    "X <- df[,-1] %>% \n",
    "    select(starts_with(\"x\"))  %>% \n",
    "    as.matrix\n",
    "\n",
    "Y <- df[,-17] %>% \n",
    "    select(starts_with(\"y\")) \n",
    "\n",
    "Y[,1] <- ifelse(Y[,1]==0,0.1,Y[,1])\n",
    "Y[,2] <- ifelse(Y[,2]==0,0.1,Y[,2])\n",
    "Y[,3] <- ifelse(Y[,3]==0,0.1,Y[,3])\n",
    "Y[,4] <- ifelse(Y[,4]==0,0.1,Y[,4])\n",
    "Y[,5] <- ifelse(Y[,5]==0,0.1,Y[,5])\n",
    "\n",
    "Y <- Y %>% \n",
    "    as.matrix "
   ]
  },
  {
   "cell_type": "code",
   "execution_count": 29,
   "metadata": {},
   "outputs": [
    {
     "data": {
      "text/html": [
       "<table>\n",
       "<caption>A matrix: 3 × 10 of type dbl</caption>\n",
       "<thead>\n",
       "\t<tr><th scope=col>x1_주정차단속</th><th scope=col>x2_차량등록수</th><th scope=col>x3_유소년인구</th><th scope=col>x4_총인구</th><th scope=col>x5_유동인구</th><th scope=col>x6_학교_유치원</th><th scope=col>x7_교통량_승용차</th><th scope=col>x8_혼잡빈도강도</th><th scope=col>x9_혼잡시간강도</th><th scope=col>x10_학원_체육도장</th></tr>\n",
       "</thead>\n",
       "<tbody>\n",
       "\t<tr><td> 0</td><td>9</td><td>0</td><td>112</td><td>  376.01</td><td>0</td><td> 1627.98</td><td>325.05</td><td>340.96</td><td>0</td></tr>\n",
       "\t<tr><td>19</td><td>0</td><td>0</td><td>  0</td><td> 2658.70</td><td>4</td><td>  800.41</td><td> 88.22</td><td>145.36</td><td>5</td></tr>\n",
       "\t<tr><td>19</td><td>0</td><td>0</td><td>  0</td><td>33513.36</td><td>6</td><td>15911.12</td><td>  2.04</td><td> 10.68</td><td>6</td></tr>\n",
       "</tbody>\n",
       "</table>\n"
      ],
      "text/latex": [
       "A matrix: 3 × 10 of type dbl\n",
       "\\begin{tabular}{llllllllll}\n",
       " x1\\_주정차단속 & x2\\_차량등록수 & x3\\_유소년인구 & x4\\_총인구 & x5\\_유동인구 & x6\\_학교\\_유치원 & x7\\_교통량\\_승용차 & x8\\_혼잡빈도강도 & x9\\_혼잡시간강도 & x10\\_학원\\_체육도장\\\\\n",
       "\\hline\n",
       "\t  0 & 9 & 0 & 112 &   376.01 & 0 &  1627.98 & 325.05 & 340.96 & 0\\\\\n",
       "\t 19 & 0 & 0 &   0 &  2658.70 & 4 &   800.41 &  88.22 & 145.36 & 5\\\\\n",
       "\t 19 & 0 & 0 &   0 & 33513.36 & 6 & 15911.12 &   2.04 &  10.68 & 6\\\\\n",
       "\\end{tabular}\n"
      ],
      "text/markdown": [
       "\n",
       "A matrix: 3 × 10 of type dbl\n",
       "\n",
       "| x1_주정차단속 | x2_차량등록수 | x3_유소년인구 | x4_총인구 | x5_유동인구 | x6_학교_유치원 | x7_교통량_승용차 | x8_혼잡빈도강도 | x9_혼잡시간강도 | x10_학원_체육도장 |\n",
       "|---|---|---|---|---|---|---|---|---|---|\n",
       "|  0 | 9 | 0 | 112 |   376.01 | 0 |  1627.98 | 325.05 | 340.96 | 0 |\n",
       "| 19 | 0 | 0 |   0 |  2658.70 | 4 |   800.41 |  88.22 | 145.36 | 5 |\n",
       "| 19 | 0 | 0 |   0 | 33513.36 | 6 | 15911.12 |   2.04 |  10.68 | 6 |\n",
       "\n"
      ],
      "text/plain": [
       "     x1_주정차단속 x2_차량등록수 x3_유소년인구 x4_총인구 x5_유동인구\n",
       "[1,]  0            9             0             112         376.01   \n",
       "[2,] 19            0             0               0        2658.70   \n",
       "[3,] 19            0             0               0       33513.36   \n",
       "     x6_학교_유치원 x7_교통량_승용차 x8_혼잡빈도강도 x9_혼잡시간강도\n",
       "[1,] 0               1627.98         325.05          340.96         \n",
       "[2,] 4                800.41          88.22          145.36         \n",
       "[3,] 6              15911.12           2.04           10.68         \n",
       "     x10_학원_체육도장\n",
       "[1,] 0                \n",
       "[2,] 5                \n",
       "[3,] 6                "
      ]
     },
     "metadata": {},
     "output_type": "display_data"
    }
   ],
   "source": [
    "head(X,3)"
   ]
  },
  {
   "cell_type": "code",
   "execution_count": 30,
   "metadata": {},
   "outputs": [
    {
     "data": {
      "text/html": [
       "<table>\n",
       "<caption>A matrix: 6 × 5 of type dbl</caption>\n",
       "<thead>\n",
       "\t<tr><th scope=col>y1_CCTV_보호구역</th><th scope=col>y2_단속카메라_불법주정차</th><th scope=col>y3_도로안전표지</th><th scope=col>y4_과속방지턱</th><th scope=col>y6_CCTV_과속단속</th></tr>\n",
       "</thead>\n",
       "<tbody>\n",
       "\t<tr><td>0.1</td><td>0.1</td><td>0.1</td><td>0.1</td><td>0.1</td></tr>\n",
       "\t<tr><td>1.0</td><td>0.1</td><td>0.1</td><td>0.1</td><td>0.1</td></tr>\n",
       "\t<tr><td>2.0</td><td>1.0</td><td>6.0</td><td>0.1</td><td>0.1</td></tr>\n",
       "\t<tr><td>3.0</td><td>1.0</td><td>2.0</td><td>0.1</td><td>0.1</td></tr>\n",
       "\t<tr><td>2.0</td><td>2.0</td><td>2.0</td><td>1.0</td><td>0.1</td></tr>\n",
       "\t<tr><td>2.0</td><td>1.0</td><td>1.0</td><td>0.1</td><td>0.1</td></tr>\n",
       "</tbody>\n",
       "</table>\n"
      ],
      "text/latex": [
       "A matrix: 6 × 5 of type dbl\n",
       "\\begin{tabular}{lllll}\n",
       " y1\\_CCTV\\_보호구역 & y2\\_단속카메라\\_불법주정차 & y3\\_도로안전표지 & y4\\_과속방지턱 & y6\\_CCTV\\_과속단속\\\\\n",
       "\\hline\n",
       "\t 0.1 & 0.1 & 0.1 & 0.1 & 0.1\\\\\n",
       "\t 1.0 & 0.1 & 0.1 & 0.1 & 0.1\\\\\n",
       "\t 2.0 & 1.0 & 6.0 & 0.1 & 0.1\\\\\n",
       "\t 3.0 & 1.0 & 2.0 & 0.1 & 0.1\\\\\n",
       "\t 2.0 & 2.0 & 2.0 & 1.0 & 0.1\\\\\n",
       "\t 2.0 & 1.0 & 1.0 & 0.1 & 0.1\\\\\n",
       "\\end{tabular}\n"
      ],
      "text/markdown": [
       "\n",
       "A matrix: 6 × 5 of type dbl\n",
       "\n",
       "| y1_CCTV_보호구역 | y2_단속카메라_불법주정차 | y3_도로안전표지 | y4_과속방지턱 | y6_CCTV_과속단속 |\n",
       "|---|---|---|---|---|\n",
       "| 0.1 | 0.1 | 0.1 | 0.1 | 0.1 |\n",
       "| 1.0 | 0.1 | 0.1 | 0.1 | 0.1 |\n",
       "| 2.0 | 1.0 | 6.0 | 0.1 | 0.1 |\n",
       "| 3.0 | 1.0 | 2.0 | 0.1 | 0.1 |\n",
       "| 2.0 | 2.0 | 2.0 | 1.0 | 0.1 |\n",
       "| 2.0 | 1.0 | 1.0 | 0.1 | 0.1 |\n",
       "\n"
      ],
      "text/plain": [
       "     y1_CCTV_보호구역 y2_단속카메라_불법주정차 y3_도로안전표지 y4_과속방지턱\n",
       "[1,] 0.1              0.1                      0.1             0.1          \n",
       "[2,] 1.0              0.1                      0.1             0.1          \n",
       "[3,] 2.0              1.0                      6.0             0.1          \n",
       "[4,] 3.0              1.0                      2.0             0.1          \n",
       "[5,] 2.0              2.0                      2.0             1.0          \n",
       "[6,] 2.0              1.0                      1.0             0.1          \n",
       "     y6_CCTV_과속단속\n",
       "[1,] 0.1             \n",
       "[2,] 0.1             \n",
       "[3,] 0.1             \n",
       "[4,] 0.1             \n",
       "[5,] 0.1             \n",
       "[6,] 0.1             "
      ]
     },
     "metadata": {},
     "output_type": "display_data"
    }
   ],
   "source": [
    "head(Y)"
   ]
  },
  {
   "cell_type": "markdown",
   "metadata": {},
   "source": [
    "### 3. DEA 분석"
   ]
  },
  {
   "cell_type": "markdown",
   "metadata": {},
   "source": [
    "#### 3-1. 출력데이터셋: dea_eff\n",
    "- 각 지역에 대한 효율성점수를 계산해 dea_eff.csv파일에 저장함\n",
    "- crs_eff: 불변규모수익(CCR) 모형\n",
    "- vrs_eff: 가변규모수익(BCC) 모형\n",
    "- 본 분석에서는 불변규모수익을 가정하였으므로, crs_eff 결과물만 사용함"
   ]
  },
  {
   "cell_type": "code",
   "execution_count": 31,
   "metadata": {},
   "outputs": [],
   "source": [
    "library(Benchmarking)"
   ]
  },
  {
   "cell_type": "code",
   "execution_count": 32,
   "metadata": {
    "scrolled": true
   },
   "outputs": [
    {
     "name": "stdout",
     "output_type": "stream",
     "text": [
      " [1] 1.000 1.000 1.000 2.538 1.885 1.000 1.000 1.000 1.338 1.000 1.928 3.761\n",
      "[13] 1.000 4.344 2.650 1.000 1.062 2.003 1.293 1.000 1.057 1.000 1.000 1.000\n",
      "[25] 1.000 1.000 1.000 2.123 2.822 2.778 3.554 1.000 1.137 1.631 2.049 1.730\n",
      "[37] 1.475 1.480 1.000 1.000 1.000 1.000 1.950 1.156 1.000 1.000 1.694 1.648\n",
      "[49] 1.588 1.761 1.000 1.000 1.000 1.000 1.793 1.974 1.583 1.000 1.000 2.090\n",
      "[61] 1.212 1.000 1.000 1.000 1.014 1.000 1.000 1.000 1.831 1.000 1.000 1.000\n",
      "[73] 1.000 3.370 2.341 1.000 1.209 1.613 3.048 1.000 1.169 1.000 1.034 2.284\n",
      "[85] 1.059 1.000 1.000 6.137 1.302 1.000 1.000\n"
     ]
    }
   ],
   "source": [
    "dea_crs <- dea(X,Y, RTS=\"crs\", ORIENTATION=\"out\")\n",
    "print(dea_crs)\n",
    "\n",
    "# table(dea_eff$crs_eff)"
   ]
  },
  {
   "cell_type": "code",
   "execution_count": 33,
   "metadata": {},
   "outputs": [
    {
     "name": "stdout",
     "output_type": "stream",
     "text": [
      " [1] 1 1 1 1 1 1 1 1 1 1 1 1 1 1 1 1 1 1 1 1 1 1 1 1 1 1 1 1 1 1 1 1 1 1 1 1 1 1\n",
      "[39] 1 1 1 1 1 1 1 1 1 1 1 1 1 1 1 1 1 1 1 1 1 1 1 1 1 1 1 1 1 1 1 1 1 1 1 1 1 1\n",
      "[77] 1 1 1 1 1 1 1 1 1 1 1 1 1 1 1\n"
     ]
    }
   ],
   "source": [
    "dea_vrs <- dea(X,Y, RTS=\"vrs\", ORIENTATION=\"out\")\n",
    "print(dea_vrs)\n",
    "\n",
    "# table(dea_eff$vrs_eff)"
   ]
  },
  {
   "cell_type": "code",
   "execution_count": 34,
   "metadata": {},
   "outputs": [
    {
     "data": {
      "text/html": [
       "<table>\n",
       "<caption>A data.frame: 3 × 3</caption>\n",
       "<thead>\n",
       "\t<tr><th></th><th scope=col>schoolzone</th><th scope=col>crs_eff</th><th scope=col>vrs_eff</th></tr>\n",
       "\t<tr><th></th><th scope=col>&lt;fct&gt;</th><th scope=col>&lt;dbl&gt;</th><th scope=col>&lt;dbl&gt;</th></tr>\n",
       "</thead>\n",
       "<tbody>\n",
       "\t<tr><th scope=row>1</th><td>성심학교    </td><td>1</td><td>1</td></tr>\n",
       "\t<tr><th scope=row>2</th><td>가수초등학교</td><td>1</td><td>1</td></tr>\n",
       "\t<tr><th scope=row>3</th><td>광성초등학교</td><td>1</td><td>1</td></tr>\n",
       "</tbody>\n",
       "</table>\n"
      ],
      "text/latex": [
       "A data.frame: 3 × 3\n",
       "\\begin{tabular}{r|lll}\n",
       "  & schoolzone & crs\\_eff & vrs\\_eff\\\\\n",
       "  & <fct> & <dbl> & <dbl>\\\\\n",
       "\\hline\n",
       "\t1 & 성심학교     & 1 & 1\\\\\n",
       "\t2 & 가수초등학교 & 1 & 1\\\\\n",
       "\t3 & 광성초등학교 & 1 & 1\\\\\n",
       "\\end{tabular}\n"
      ],
      "text/markdown": [
       "\n",
       "A data.frame: 3 × 3\n",
       "\n",
       "| <!--/--> | schoolzone &lt;fct&gt; | crs_eff &lt;dbl&gt; | vrs_eff &lt;dbl&gt; |\n",
       "|---|---|---|---|\n",
       "| 1 | 성심학교     | 1 | 1 |\n",
       "| 2 | 가수초등학교 | 1 | 1 |\n",
       "| 3 | 광성초등학교 | 1 | 1 |\n",
       "\n"
      ],
      "text/plain": [
       "  schoolzone   crs_eff vrs_eff\n",
       "1 성심학교     1       1      \n",
       "2 가수초등학교 1       1      \n",
       "3 광성초등학교 1       1      "
      ]
     },
     "metadata": {},
     "output_type": "display_data"
    }
   ],
   "source": [
    "dea_eff <- data.frame(schoolzone = df$보호구역명, crs_eff = dea_crs$eff,vrs_eff=dea_vrs$eff)\n",
    "head(dea_eff,3)"
   ]
  },
  {
   "cell_type": "code",
   "execution_count": 35,
   "metadata": {},
   "outputs": [],
   "source": [
    "write.csv(dea_eff,\"dea_eff.csv\")"
   ]
  },
  {
   "cell_type": "markdown",
   "metadata": {},
   "source": [
    "#### 3-2. 출력데이터셋: dea_crs\n",
    "- 비효율 지역의 산출물(시설물) 목표치를 계산하기 위해 필요한 참조집단의 가중치를 dea_crs.csv 파일에 저장함"
   ]
  },
  {
   "cell_type": "code",
   "execution_count": 36,
   "metadata": {},
   "outputs": [
    {
     "data": {
      "text/html": [
       "<table>\n",
       "<caption>A matrix: 3 × 46 of type dbl</caption>\n",
       "<thead>\n",
       "\t<tr><th scope=col>L1</th><th scope=col>L2</th><th scope=col>L3</th><th scope=col>L6</th><th scope=col>L7</th><th scope=col>L8</th><th scope=col>L10</th><th scope=col>L13</th><th scope=col>L16</th><th scope=col>L20</th><th scope=col>⋯</th><th scope=col>L71</th><th scope=col>L72</th><th scope=col>L73</th><th scope=col>L76</th><th scope=col>L80</th><th scope=col>L82</th><th scope=col>L86</th><th scope=col>L87</th><th scope=col>L90</th><th scope=col>L91</th></tr>\n",
       "</thead>\n",
       "<tbody>\n",
       "\t<tr><td>1</td><td>0</td><td>0</td><td>0</td><td>0</td><td>0</td><td>0</td><td>0</td><td>0</td><td>0</td><td>⋯</td><td>0</td><td>0</td><td>0</td><td>0</td><td>0</td><td>0</td><td>0</td><td>0</td><td>0</td><td>0</td></tr>\n",
       "\t<tr><td>0</td><td>1</td><td>0</td><td>0</td><td>0</td><td>0</td><td>0</td><td>0</td><td>0</td><td>0</td><td>⋯</td><td>0</td><td>0</td><td>0</td><td>0</td><td>0</td><td>0</td><td>0</td><td>0</td><td>0</td><td>0</td></tr>\n",
       "\t<tr><td>0</td><td>0</td><td>1</td><td>0</td><td>0</td><td>0</td><td>0</td><td>0</td><td>0</td><td>0</td><td>⋯</td><td>0</td><td>0</td><td>0</td><td>0</td><td>0</td><td>0</td><td>0</td><td>0</td><td>0</td><td>0</td></tr>\n",
       "</tbody>\n",
       "</table>\n"
      ],
      "text/latex": [
       "A matrix: 3 × 46 of type dbl\n",
       "\\begin{tabular}{lllllllllllllllllllll}\n",
       " L1 & L2 & L3 & L6 & L7 & L8 & L10 & L13 & L16 & L20 & ⋯ & L71 & L72 & L73 & L76 & L80 & L82 & L86 & L87 & L90 & L91\\\\\n",
       "\\hline\n",
       "\t 1 & 0 & 0 & 0 & 0 & 0 & 0 & 0 & 0 & 0 & ⋯ & 0 & 0 & 0 & 0 & 0 & 0 & 0 & 0 & 0 & 0\\\\\n",
       "\t 0 & 1 & 0 & 0 & 0 & 0 & 0 & 0 & 0 & 0 & ⋯ & 0 & 0 & 0 & 0 & 0 & 0 & 0 & 0 & 0 & 0\\\\\n",
       "\t 0 & 0 & 1 & 0 & 0 & 0 & 0 & 0 & 0 & 0 & ⋯ & 0 & 0 & 0 & 0 & 0 & 0 & 0 & 0 & 0 & 0\\\\\n",
       "\\end{tabular}\n"
      ],
      "text/markdown": [
       "\n",
       "A matrix: 3 × 46 of type dbl\n",
       "\n",
       "| L1 | L2 | L3 | L6 | L7 | L8 | L10 | L13 | L16 | L20 | ⋯ | L71 | L72 | L73 | L76 | L80 | L82 | L86 | L87 | L90 | L91 |\n",
       "|---|---|---|---|---|---|---|---|---|---|---|---|---|---|---|---|---|---|---|---|---|\n",
       "| 1 | 0 | 0 | 0 | 0 | 0 | 0 | 0 | 0 | 0 | ⋯ | 0 | 0 | 0 | 0 | 0 | 0 | 0 | 0 | 0 | 0 |\n",
       "| 0 | 1 | 0 | 0 | 0 | 0 | 0 | 0 | 0 | 0 | ⋯ | 0 | 0 | 0 | 0 | 0 | 0 | 0 | 0 | 0 | 0 |\n",
       "| 0 | 0 | 1 | 0 | 0 | 0 | 0 | 0 | 0 | 0 | ⋯ | 0 | 0 | 0 | 0 | 0 | 0 | 0 | 0 | 0 | 0 |\n",
       "\n"
      ],
      "text/plain": [
       "     L1 L2 L3 L6 L7 L8 L10 L13 L16 L20 ⋯ L71 L72 L73 L76 L80 L82 L86 L87 L90\n",
       "[1,] 1  0  0  0  0  0  0   0   0   0   ⋯ 0   0   0   0   0   0   0   0   0  \n",
       "[2,] 0  1  0  0  0  0  0   0   0   0   ⋯ 0   0   0   0   0   0   0   0   0  \n",
       "[3,] 0  0  1  0  0  0  0   0   0   0   ⋯ 0   0   0   0   0   0   0   0   0  \n",
       "     L91\n",
       "[1,] 0  \n",
       "[2,] 0  \n",
       "[3,] 0  "
      ]
     },
     "metadata": {},
     "output_type": "display_data"
    }
   ],
   "source": [
    "crs <- lambda(dea_crs, KEEPREF = FALSE)\n",
    "head(crs,3)"
   ]
  },
  {
   "cell_type": "code",
   "execution_count": 37,
   "metadata": {},
   "outputs": [],
   "source": [
    "df$보호구역명 <- as.character(df$보호구역명)\n",
    "colname <- as.numeric(substr(colnames(crs),2,3)) - 1 # 파이썬은 0부터 시작\n",
    "\n",
    "for (i in 1:length(colname)){\n",
    "    for (j in 1:nrow(df)){\n",
    "        if (colname[i]==df$X[j]){\n",
    "            colname[i] = df$보호구역명[j]\n",
    "            # print(df$보호구역명[j])\n",
    "        }\n",
    "    }\n",
    "}\n",
    "\n",
    "colnames(crs) <- colname"
   ]
  },
  {
   "cell_type": "code",
   "execution_count": 38,
   "metadata": {},
   "outputs": [
    {
     "data": {
      "text/html": [
       "<table>\n",
       "<caption>A data.frame: 3 × 47</caption>\n",
       "<thead>\n",
       "\t<tr><th></th><th scope=col>schoolzone</th><th scope=col>성심학교</th><th scope=col>가수초등학교</th><th scope=col>광성초등학교</th><th scope=col>삼미초등학교</th><th scope=col>성산초등학교</th><th scope=col>성호초등학교</th><th scope=col>오산초등학교</th><th scope=col>오산원당초등학교</th><th scope=col>운암초등학교</th><th scope=col>⋯</th><th scope=col>리틀램어린이집</th><th scope=col>아이사랑어린이집</th><th scope=col>중앙어린이집</th><th scope=col>늘해랑어린이집</th><th scope=col>키즈맘.어린이집</th><th scope=col>행복아이.어린이집</th><th scope=col>자람터어린이집</th><th scope=col>시립세마어린이집</th><th scope=col>설리반어린이집</th><th scope=col>세교복지타운어린이집</th></tr>\n",
       "\t<tr><th></th><th scope=col>&lt;fct&gt;</th><th scope=col>&lt;dbl&gt;</th><th scope=col>&lt;dbl&gt;</th><th scope=col>&lt;dbl&gt;</th><th scope=col>&lt;dbl&gt;</th><th scope=col>&lt;dbl&gt;</th><th scope=col>&lt;dbl&gt;</th><th scope=col>&lt;dbl&gt;</th><th scope=col>&lt;dbl&gt;</th><th scope=col>&lt;dbl&gt;</th><th scope=col>⋯</th><th scope=col>&lt;dbl&gt;</th><th scope=col>&lt;dbl&gt;</th><th scope=col>&lt;dbl&gt;</th><th scope=col>&lt;dbl&gt;</th><th scope=col>&lt;dbl&gt;</th><th scope=col>&lt;dbl&gt;</th><th scope=col>&lt;dbl&gt;</th><th scope=col>&lt;dbl&gt;</th><th scope=col>&lt;dbl&gt;</th><th scope=col>&lt;dbl&gt;</th></tr>\n",
       "</thead>\n",
       "<tbody>\n",
       "\t<tr><th scope=row>1</th><td>성심학교    </td><td>1</td><td>0</td><td>0</td><td>0</td><td>0</td><td>0</td><td>0</td><td>0</td><td>0</td><td>⋯</td><td>0</td><td>0</td><td>0</td><td>0</td><td>0</td><td>0</td><td>0</td><td>0</td><td>0</td><td>0</td></tr>\n",
       "\t<tr><th scope=row>2</th><td>가수초등학교</td><td>0</td><td>1</td><td>0</td><td>0</td><td>0</td><td>0</td><td>0</td><td>0</td><td>0</td><td>⋯</td><td>0</td><td>0</td><td>0</td><td>0</td><td>0</td><td>0</td><td>0</td><td>0</td><td>0</td><td>0</td></tr>\n",
       "\t<tr><th scope=row>3</th><td>광성초등학교</td><td>0</td><td>0</td><td>1</td><td>0</td><td>0</td><td>0</td><td>0</td><td>0</td><td>0</td><td>⋯</td><td>0</td><td>0</td><td>0</td><td>0</td><td>0</td><td>0</td><td>0</td><td>0</td><td>0</td><td>0</td></tr>\n",
       "</tbody>\n",
       "</table>\n"
      ],
      "text/latex": [
       "A data.frame: 3 × 47\n",
       "\\begin{tabular}{r|lllllllllllllllllllll}\n",
       "  & schoolzone & 성심학교 & 가수초등학교 & 광성초등학교 & 삼미초등학교 & 성산초등학교 & 성호초등학교 & 오산초등학교 & 오산원당초등학교 & 운암초등학교 & ⋯ & 리틀램어린이집 & 아이사랑어린이집 & 중앙어린이집 & 늘해랑어린이집 & 키즈맘.어린이집 & 행복아이.어린이집 & 자람터어린이집 & 시립세마어린이집 & 설리반어린이집 & 세교복지타운어린이집\\\\\n",
       "  & <fct> & <dbl> & <dbl> & <dbl> & <dbl> & <dbl> & <dbl> & <dbl> & <dbl> & <dbl> & ⋯ & <dbl> & <dbl> & <dbl> & <dbl> & <dbl> & <dbl> & <dbl> & <dbl> & <dbl> & <dbl>\\\\\n",
       "\\hline\n",
       "\t1 & 성심학교     & 1 & 0 & 0 & 0 & 0 & 0 & 0 & 0 & 0 & ⋯ & 0 & 0 & 0 & 0 & 0 & 0 & 0 & 0 & 0 & 0\\\\\n",
       "\t2 & 가수초등학교 & 0 & 1 & 0 & 0 & 0 & 0 & 0 & 0 & 0 & ⋯ & 0 & 0 & 0 & 0 & 0 & 0 & 0 & 0 & 0 & 0\\\\\n",
       "\t3 & 광성초등학교 & 0 & 0 & 1 & 0 & 0 & 0 & 0 & 0 & 0 & ⋯ & 0 & 0 & 0 & 0 & 0 & 0 & 0 & 0 & 0 & 0\\\\\n",
       "\\end{tabular}\n"
      ],
      "text/markdown": [
       "\n",
       "A data.frame: 3 × 47\n",
       "\n",
       "| <!--/--> | schoolzone &lt;fct&gt; | 성심학교 &lt;dbl&gt; | 가수초등학교 &lt;dbl&gt; | 광성초등학교 &lt;dbl&gt; | 삼미초등학교 &lt;dbl&gt; | 성산초등학교 &lt;dbl&gt; | 성호초등학교 &lt;dbl&gt; | 오산초등학교 &lt;dbl&gt; | 오산원당초등학교 &lt;dbl&gt; | 운암초등학교 &lt;dbl&gt; | ⋯ ⋯ | 리틀램어린이집 &lt;dbl&gt; | 아이사랑어린이집 &lt;dbl&gt; | 중앙어린이집 &lt;dbl&gt; | 늘해랑어린이집 &lt;dbl&gt; | 키즈맘.어린이집 &lt;dbl&gt; | 행복아이.어린이집 &lt;dbl&gt; | 자람터어린이집 &lt;dbl&gt; | 시립세마어린이집 &lt;dbl&gt; | 설리반어린이집 &lt;dbl&gt; | 세교복지타운어린이집 &lt;dbl&gt; |\n",
       "|---|---|---|---|---|---|---|---|---|---|---|---|---|---|---|---|---|---|---|---|---|---|\n",
       "| 1 | 성심학교     | 1 | 0 | 0 | 0 | 0 | 0 | 0 | 0 | 0 | ⋯ | 0 | 0 | 0 | 0 | 0 | 0 | 0 | 0 | 0 | 0 |\n",
       "| 2 | 가수초등학교 | 0 | 1 | 0 | 0 | 0 | 0 | 0 | 0 | 0 | ⋯ | 0 | 0 | 0 | 0 | 0 | 0 | 0 | 0 | 0 | 0 |\n",
       "| 3 | 광성초등학교 | 0 | 0 | 1 | 0 | 0 | 0 | 0 | 0 | 0 | ⋯ | 0 | 0 | 0 | 0 | 0 | 0 | 0 | 0 | 0 | 0 |\n",
       "\n"
      ],
      "text/plain": [
       "  schoolzone   성심학교 가수초등학교 광성초등학교 삼미초등학교 성산초등학교\n",
       "1 성심학교     1        0            0            0            0           \n",
       "2 가수초등학교 0        1            0            0            0           \n",
       "3 광성초등학교 0        0            1            0            0           \n",
       "  성호초등학교 오산초등학교 오산원당초등학교 운암초등학교 ⋯ 리틀램어린이집\n",
       "1 0            0            0                0            ⋯ 0             \n",
       "2 0            0            0                0            ⋯ 0             \n",
       "3 0            0            0                0            ⋯ 0             \n",
       "  아이사랑어린이집 중앙어린이집 늘해랑어린이집 키즈맘.어린이집\n",
       "1 0                0            0              0              \n",
       "2 0                0            0              0              \n",
       "3 0                0            0              0              \n",
       "  행복아이.어린이집 자람터어린이집 시립세마어린이집 설리반어린이집\n",
       "1 0                 0              0                0             \n",
       "2 0                 0              0                0             \n",
       "3 0                 0              0                0             \n",
       "  세교복지타운어린이집\n",
       "1 0                   \n",
       "2 0                   \n",
       "3 0                   "
      ]
     },
     "metadata": {},
     "output_type": "display_data"
    }
   ],
   "source": [
    "dea_crs <- data.frame(schoolzone = df$보호구역명, crs)\n",
    "head(dea_crs,3)"
   ]
  },
  {
   "cell_type": "code",
   "execution_count": 39,
   "metadata": {},
   "outputs": [],
   "source": [
    "write.csv(dea_crs,\"dea_crs.csv\")"
   ]
  },
  {
   "cell_type": "markdown",
   "metadata": {},
   "source": [
    "## 본 R코드에서 저장한 \"dea_eff.csv\", \"dea_crs.csv\" 두 파일을 Python에서 불러 와 분석을 이어감 (python 소스코드 2-2 부터)"
   ]
  }
 ],
 "metadata": {
  "kernelspec": {
   "display_name": "R",
   "language": "R",
   "name": "ir"
  },
  "language_info": {
   "codemirror_mode": "r",
   "file_extension": ".r",
   "mimetype": "text/x-r-source",
   "name": "R",
   "pygments_lexer": "r",
   "version": "3.6.0"
  }
 },
 "nbformat": 4,
 "nbformat_minor": 4
}
